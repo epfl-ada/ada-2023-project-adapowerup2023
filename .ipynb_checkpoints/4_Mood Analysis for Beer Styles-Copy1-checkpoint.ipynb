{
 "cells": [
  {
   "cell_type": "code",
   "execution_count": 1,
   "id": "89a147d2",
   "metadata": {},
   "outputs": [],
   "source": [
    "import numpy as np\n",
    "import pandas as pd \n",
    "import seaborn as sns\n",
    "import networkx as nx\n",
    "import matplotlib.pyplot as plt\n",
    "import plotly.graph_objects as go"
   ]
  },
  {
   "cell_type": "markdown",
   "id": "9560162a",
   "metadata": {},
   "source": [
    "### Loading Emotions Scores Aggregated By Beer Styles\n",
    "\n",
    "Let's load the csv files containing the emotions scores and visualize thei strucure :"
   ]
  },
  {
   "cell_type": "code",
   "execution_count": 2,
   "id": "10d2bdbe",
   "metadata": {},
   "outputs": [],
   "source": [
    "# Load data\n",
    "df_ba =  pd.read_csv('C:/Users/User/Documents/GitHub/data/emotion_scores_ba_for_beer_styles.csv')\n",
    "df_rb = pd.read_csv('C:/Users/User/Documents/GitHub/data/emotion_scores_rb_for_beer_styles.csv')"
   ]
  },
  {
   "cell_type": "code",
   "execution_count": 3,
   "id": "0c20fb55",
   "metadata": {},
   "outputs": [
    {
     "data": {
      "text/html": [
       "<div>\n",
       "<style scoped>\n",
       "    .dataframe tbody tr th:only-of-type {\n",
       "        vertical-align: middle;\n",
       "    }\n",
       "\n",
       "    .dataframe tbody tr th {\n",
       "        vertical-align: top;\n",
       "    }\n",
       "\n",
       "    .dataframe thead th {\n",
       "        text-align: right;\n",
       "    }\n",
       "</style>\n",
       "<table border=\"1\" class=\"dataframe\">\n",
       "  <thead>\n",
       "    <tr style=\"text-align: right;\">\n",
       "      <th></th>\n",
       "      <th>style</th>\n",
       "      <th>joy_score</th>\n",
       "      <th>sadness_score</th>\n",
       "      <th>anger_score</th>\n",
       "      <th>fear_score</th>\n",
       "      <th>love_score</th>\n",
       "      <th>surprise_score</th>\n",
       "    </tr>\n",
       "  </thead>\n",
       "  <tbody>\n",
       "    <tr>\n",
       "      <th>0</th>\n",
       "      <td>Abbey Dubbel</td>\n",
       "      <td>0.203365</td>\n",
       "      <td>0.080878</td>\n",
       "      <td>0.126024</td>\n",
       "      <td>0.075817</td>\n",
       "      <td>0.130389</td>\n",
       "      <td>0.198102</td>\n",
       "    </tr>\n",
       "    <tr>\n",
       "      <th>1</th>\n",
       "      <td>Abbey Tripel</td>\n",
       "      <td>0.227110</td>\n",
       "      <td>0.077330</td>\n",
       "      <td>0.102070</td>\n",
       "      <td>0.069071</td>\n",
       "      <td>0.138369</td>\n",
       "      <td>0.189992</td>\n",
       "    </tr>\n",
       "    <tr>\n",
       "      <th>2</th>\n",
       "      <td>Abt/Quadrupel</td>\n",
       "      <td>0.205601</td>\n",
       "      <td>0.077203</td>\n",
       "      <td>0.116924</td>\n",
       "      <td>0.074061</td>\n",
       "      <td>0.121775</td>\n",
       "      <td>0.193606</td>\n",
       "    </tr>\n",
       "    <tr>\n",
       "      <th>3</th>\n",
       "      <td>Altbier</td>\n",
       "      <td>0.208427</td>\n",
       "      <td>0.101544</td>\n",
       "      <td>0.156289</td>\n",
       "      <td>0.084493</td>\n",
       "      <td>0.139425</td>\n",
       "      <td>0.198127</td>\n",
       "    </tr>\n",
       "    <tr>\n",
       "      <th>4</th>\n",
       "      <td>Amber Ale</td>\n",
       "      <td>0.212017</td>\n",
       "      <td>0.103296</td>\n",
       "      <td>0.158536</td>\n",
       "      <td>0.081056</td>\n",
       "      <td>0.141567</td>\n",
       "      <td>0.195680</td>\n",
       "    </tr>\n",
       "  </tbody>\n",
       "</table>\n",
       "</div>"
      ],
      "text/plain": [
       "           style  joy_score  sadness_score  anger_score  fear_score  \\\n",
       "0   Abbey Dubbel   0.203365       0.080878     0.126024    0.075817   \n",
       "1   Abbey Tripel   0.227110       0.077330     0.102070    0.069071   \n",
       "2  Abt/Quadrupel   0.205601       0.077203     0.116924    0.074061   \n",
       "3        Altbier   0.208427       0.101544     0.156289    0.084493   \n",
       "4      Amber Ale   0.212017       0.103296     0.158536    0.081056   \n",
       "\n",
       "   love_score  surprise_score  \n",
       "0    0.130389        0.198102  \n",
       "1    0.138369        0.189992  \n",
       "2    0.121775        0.193606  \n",
       "3    0.139425        0.198127  \n",
       "4    0.141567        0.195680  "
      ]
     },
     "execution_count": 3,
     "metadata": {},
     "output_type": "execute_result"
    }
   ],
   "source": [
    "df_rb.head()"
   ]
  },
  {
   "cell_type": "code",
   "execution_count": 4,
   "id": "78a9c839",
   "metadata": {},
   "outputs": [
    {
     "data": {
      "text/html": [
       "<div>\n",
       "<style scoped>\n",
       "    .dataframe tbody tr th:only-of-type {\n",
       "        vertical-align: middle;\n",
       "    }\n",
       "\n",
       "    .dataframe tbody tr th {\n",
       "        vertical-align: top;\n",
       "    }\n",
       "\n",
       "    .dataframe thead th {\n",
       "        text-align: right;\n",
       "    }\n",
       "</style>\n",
       "<table border=\"1\" class=\"dataframe\">\n",
       "  <thead>\n",
       "    <tr style=\"text-align: right;\">\n",
       "      <th></th>\n",
       "      <th>style</th>\n",
       "      <th>joy_score</th>\n",
       "      <th>sadness_score</th>\n",
       "      <th>anger_score</th>\n",
       "      <th>fear_score</th>\n",
       "      <th>love_score</th>\n",
       "      <th>surprise_score</th>\n",
       "    </tr>\n",
       "  </thead>\n",
       "  <tbody>\n",
       "    <tr>\n",
       "      <th>0</th>\n",
       "      <td>Altbier</td>\n",
       "      <td>0.196298</td>\n",
       "      <td>0.098739</td>\n",
       "      <td>0.148250</td>\n",
       "      <td>0.092883</td>\n",
       "      <td>0.127143</td>\n",
       "      <td>0.207595</td>\n",
       "    </tr>\n",
       "    <tr>\n",
       "      <th>1</th>\n",
       "      <td>American Adjunct Lager</td>\n",
       "      <td>0.170932</td>\n",
       "      <td>0.060593</td>\n",
       "      <td>0.096242</td>\n",
       "      <td>0.074346</td>\n",
       "      <td>0.093940</td>\n",
       "      <td>0.180464</td>\n",
       "    </tr>\n",
       "    <tr>\n",
       "      <th>2</th>\n",
       "      <td>American Amber / Red Ale</td>\n",
       "      <td>0.193949</td>\n",
       "      <td>0.097813</td>\n",
       "      <td>0.152243</td>\n",
       "      <td>0.090014</td>\n",
       "      <td>0.127163</td>\n",
       "      <td>0.204509</td>\n",
       "    </tr>\n",
       "    <tr>\n",
       "      <th>3</th>\n",
       "      <td>American Amber / Red Lager</td>\n",
       "      <td>0.183529</td>\n",
       "      <td>0.081462</td>\n",
       "      <td>0.135696</td>\n",
       "      <td>0.082171</td>\n",
       "      <td>0.116557</td>\n",
       "      <td>0.194319</td>\n",
       "    </tr>\n",
       "    <tr>\n",
       "      <th>4</th>\n",
       "      <td>American Barleywine</td>\n",
       "      <td>0.178782</td>\n",
       "      <td>0.081599</td>\n",
       "      <td>0.133608</td>\n",
       "      <td>0.083311</td>\n",
       "      <td>0.117468</td>\n",
       "      <td>0.202873</td>\n",
       "    </tr>\n",
       "  </tbody>\n",
       "</table>\n",
       "</div>"
      ],
      "text/plain": [
       "                        style  joy_score  sadness_score  anger_score  \\\n",
       "0                     Altbier   0.196298       0.098739     0.148250   \n",
       "1      American Adjunct Lager   0.170932       0.060593     0.096242   \n",
       "2    American Amber / Red Ale   0.193949       0.097813     0.152243   \n",
       "3  American Amber / Red Lager   0.183529       0.081462     0.135696   \n",
       "4         American Barleywine   0.178782       0.081599     0.133608   \n",
       "\n",
       "   fear_score  love_score  surprise_score  \n",
       "0    0.092883    0.127143        0.207595  \n",
       "1    0.074346    0.093940        0.180464  \n",
       "2    0.090014    0.127163        0.204509  \n",
       "3    0.082171    0.116557        0.194319  \n",
       "4    0.083311    0.117468        0.202873  "
      ]
     },
     "execution_count": 4,
     "metadata": {},
     "output_type": "execute_result"
    }
   ],
   "source": [
    "df_ba.head()"
   ]
  },
  {
   "cell_type": "markdown",
   "id": "372337c4",
   "metadata": {},
   "source": [
    "### Replacing Score values by Low/Medium/High based on 40th and 60th percentiles\n",
    "\n",
    "Mapping emotions scores to moods involved transforming complex sentiment data into a more comprehensible and actionable format.\n",
    "\n",
    "Step 1 : Conversion of Sentiment Scores to Categorical Variables: Initially, we dealt with sentiment scores ranging from -1 to 1, derived from advanced BERT-based NLP analysis of beer reviews. To make these scores more interpretable, we converted them into categorical variables: 'high', 'low', or 'medium'. This categorization was based on the distribution of emotion scores across all beer styles. Specifically, we computed the 40th and 60th percentiles for each emotion, using these as thresholds. Scores below the 40th percentile were categorized as 'low', those between the 40th and 60th percentiles as 'medium', and above the 60th percentile as 'high'. Importantly, we did not utilize the 'medium' category in our Mood Map, allowing for a buffer zone that reduces the arbitrariness in categorizing emotions as 'high' or 'low'.\n"
   ]
  },
  {
   "cell_type": "code",
   "execution_count": 5,
   "id": "90073fbc",
   "metadata": {},
   "outputs": [
    {
     "data": {
      "text/html": [
       "<div>\n",
       "<style scoped>\n",
       "    .dataframe tbody tr th:only-of-type {\n",
       "        vertical-align: middle;\n",
       "    }\n",
       "\n",
       "    .dataframe tbody tr th {\n",
       "        vertical-align: top;\n",
       "    }\n",
       "\n",
       "    .dataframe thead th {\n",
       "        text-align: right;\n",
       "    }\n",
       "</style>\n",
       "<table border=\"1\" class=\"dataframe\">\n",
       "  <thead>\n",
       "    <tr style=\"text-align: right;\">\n",
       "      <th></th>\n",
       "      <th>style</th>\n",
       "      <th>joy_score</th>\n",
       "      <th>sadness_score</th>\n",
       "      <th>anger_score</th>\n",
       "      <th>fear_score</th>\n",
       "      <th>love_score</th>\n",
       "      <th>surprise_score</th>\n",
       "    </tr>\n",
       "  </thead>\n",
       "  <tbody>\n",
       "    <tr>\n",
       "      <th>0</th>\n",
       "      <td>Altbier</td>\n",
       "      <td>High</td>\n",
       "      <td>High</td>\n",
       "      <td>High</td>\n",
       "      <td>High</td>\n",
       "      <td>High</td>\n",
       "      <td>High</td>\n",
       "    </tr>\n",
       "    <tr>\n",
       "      <th>1</th>\n",
       "      <td>American Adjunct Lager</td>\n",
       "      <td>Low</td>\n",
       "      <td>Low</td>\n",
       "      <td>Low</td>\n",
       "      <td>Low</td>\n",
       "      <td>Low</td>\n",
       "      <td>Low</td>\n",
       "    </tr>\n",
       "    <tr>\n",
       "      <th>2</th>\n",
       "      <td>American Amber / Red Ale</td>\n",
       "      <td>Medium</td>\n",
       "      <td>High</td>\n",
       "      <td>High</td>\n",
       "      <td>Medium</td>\n",
       "      <td>High</td>\n",
       "      <td>High</td>\n",
       "    </tr>\n",
       "    <tr>\n",
       "      <th>3</th>\n",
       "      <td>American Amber / Red Lager</td>\n",
       "      <td>Low</td>\n",
       "      <td>Low</td>\n",
       "      <td>Medium</td>\n",
       "      <td>Low</td>\n",
       "      <td>Low</td>\n",
       "      <td>Low</td>\n",
       "    </tr>\n",
       "    <tr>\n",
       "      <th>4</th>\n",
       "      <td>American Barleywine</td>\n",
       "      <td>Low</td>\n",
       "      <td>Low</td>\n",
       "      <td>Medium</td>\n",
       "      <td>Low</td>\n",
       "      <td>Low</td>\n",
       "      <td>Medium</td>\n",
       "    </tr>\n",
       "  </tbody>\n",
       "</table>\n",
       "</div>"
      ],
      "text/plain": [
       "                        style joy_score sadness_score anger_score fear_score  \\\n",
       "0                     Altbier      High          High        High       High   \n",
       "1      American Adjunct Lager       Low           Low         Low        Low   \n",
       "2    American Amber / Red Ale    Medium          High        High     Medium   \n",
       "3  American Amber / Red Lager       Low           Low      Medium        Low   \n",
       "4         American Barleywine       Low           Low      Medium        Low   \n",
       "\n",
       "  love_score surprise_score  \n",
       "0       High           High  \n",
       "1        Low            Low  \n",
       "2       High           High  \n",
       "3        Low            Low  \n",
       "4        Low         Medium  "
      ]
     },
     "execution_count": 5,
     "metadata": {},
     "output_type": "execute_result"
    }
   ],
   "source": [
    "def replace_with_high_low(df):\n",
    "    \"\"\"\n",
    "    Categorize values in a DataFrame into 'High', 'Medium', or 'Low' based on the 40th and 60th percentiles.\n",
    "\n",
    "    Parameters:\n",
    "    df (DataFrame): The DataFrame to process.\n",
    "\n",
    "    Returns:\n",
    "    DataFrame: A new DataFrame with the categorized values.\n",
    "    \"\"\"\n",
    "    df_transformed = df.copy()\n",
    "    for column in df_transformed.columns:\n",
    "        if column != 'style':  # Skip the 'style' column\n",
    "            lower_percentile = df_transformed[column].quantile(0.4)\n",
    "            upper_percentile = df_transformed[column].quantile(0.6)\n",
    "            df_transformed[column] = df_transformed[column].apply(lambda x: 'High' if x > upper_percentile \n",
    "                                                                  else ('Low' if x < lower_percentile else 'Medium'))\n",
    "    return df_transformed\n",
    "\n",
    "# Apply the defined function to the scores of both websites\n",
    "df_ba_transformed = replace_with_high_low(df_ba)\n",
    "df_rb_transformed = replace_with_high_low(df_rb)\n",
    "\n",
    "df_ba_transformed.head()"
   ]
  },
  {
   "cell_type": "code",
   "execution_count": 6,
   "id": "847ac96d",
   "metadata": {},
   "outputs": [
    {
     "data": {
      "text/html": [
       "<div>\n",
       "<style scoped>\n",
       "    .dataframe tbody tr th:only-of-type {\n",
       "        vertical-align: middle;\n",
       "    }\n",
       "\n",
       "    .dataframe tbody tr th {\n",
       "        vertical-align: top;\n",
       "    }\n",
       "\n",
       "    .dataframe thead th {\n",
       "        text-align: right;\n",
       "    }\n",
       "</style>\n",
       "<table border=\"1\" class=\"dataframe\">\n",
       "  <thead>\n",
       "    <tr style=\"text-align: right;\">\n",
       "      <th></th>\n",
       "      <th>style</th>\n",
       "      <th>joy_score</th>\n",
       "      <th>sadness_score</th>\n",
       "      <th>anger_score</th>\n",
       "      <th>fear_score</th>\n",
       "      <th>love_score</th>\n",
       "      <th>surprise_score</th>\n",
       "    </tr>\n",
       "  </thead>\n",
       "  <tbody>\n",
       "    <tr>\n",
       "      <th>0</th>\n",
       "      <td>Abbey Dubbel</td>\n",
       "      <td>Low</td>\n",
       "      <td>Low</td>\n",
       "      <td>Medium</td>\n",
       "      <td>Medium</td>\n",
       "      <td>Low</td>\n",
       "      <td>High</td>\n",
       "    </tr>\n",
       "    <tr>\n",
       "      <th>1</th>\n",
       "      <td>Abbey Tripel</td>\n",
       "      <td>High</td>\n",
       "      <td>Low</td>\n",
       "      <td>Low</td>\n",
       "      <td>Low</td>\n",
       "      <td>High</td>\n",
       "      <td>Medium</td>\n",
       "    </tr>\n",
       "    <tr>\n",
       "      <th>2</th>\n",
       "      <td>Abt/Quadrupel</td>\n",
       "      <td>Low</td>\n",
       "      <td>Low</td>\n",
       "      <td>Low</td>\n",
       "      <td>Medium</td>\n",
       "      <td>Low</td>\n",
       "      <td>High</td>\n",
       "    </tr>\n",
       "    <tr>\n",
       "      <th>3</th>\n",
       "      <td>Altbier</td>\n",
       "      <td>Low</td>\n",
       "      <td>High</td>\n",
       "      <td>High</td>\n",
       "      <td>High</td>\n",
       "      <td>High</td>\n",
       "      <td>High</td>\n",
       "    </tr>\n",
       "    <tr>\n",
       "      <th>4</th>\n",
       "      <td>Amber Ale</td>\n",
       "      <td>Medium</td>\n",
       "      <td>High</td>\n",
       "      <td>High</td>\n",
       "      <td>High</td>\n",
       "      <td>High</td>\n",
       "      <td>High</td>\n",
       "    </tr>\n",
       "  </tbody>\n",
       "</table>\n",
       "</div>"
      ],
      "text/plain": [
       "           style joy_score sadness_score anger_score fear_score love_score  \\\n",
       "0   Abbey Dubbel       Low           Low      Medium     Medium        Low   \n",
       "1   Abbey Tripel      High           Low         Low        Low       High   \n",
       "2  Abt/Quadrupel       Low           Low         Low     Medium        Low   \n",
       "3        Altbier       Low          High        High       High       High   \n",
       "4      Amber Ale    Medium          High        High       High       High   \n",
       "\n",
       "  surprise_score  \n",
       "0           High  \n",
       "1         Medium  \n",
       "2           High  \n",
       "3           High  \n",
       "4           High  "
      ]
     },
     "execution_count": 6,
     "metadata": {},
     "output_type": "execute_result"
    }
   ],
   "source": [
    "df_rb_transformed.head()"
   ]
  },
  {
   "cell_type": "markdown",
   "id": "b27db7a1",
   "metadata": {},
   "source": [
    "### Definition of the Mood Map"
   ]
  },
  {
   "cell_type": "markdown",
   "id": "e0197bc5",
   "metadata": {},
   "source": [
    "It is pivotal to understand the distinction between moods and emotions, as they form the foundation of our analysis. Emotions are intense but fleeting, often a direct response to external stimuli. They are acute feelings like joy, anger, or surprise, and are typically short-lived. Emotions can be clearly identified and are usually associated with distinct physiological and behavioural changes.\n",
    "\n",
    "Moods, on the other hand, are more subdued and enduring. They can last for hours, days, or even longer and often don't have a single identifiable cause. While emotions can be likened to the weather, striking distinctly and changing rapidly, moods are more comparable to the climate, a longer-term, pervasive state of mind. Moods are not as intense as emotions, but they can significantly influence a person's perception and interaction with the world.\n",
    "\n",
    "In our project, we've analysed a vast array of beer reviews, extracting emotional scores using advanced BERT-based sentiment analysis. These scores, aggregated by beer and subsequently by beer style, have been crucial in constructing our 'Mood Map'. This map creates a unique correspondence between various moods and their associated high and low emotional states, enabling us to match beer styles with specific moods. This innovative approach offers a nuanced understanding of how different beers resonate with varying emotional landscapes, enhancing the beer selection experience based on mood congruence.\n",
    "\n",
    "**Here are the moods considered in our analysis:**\n",
    "\n",
    "1. **Adventurous Sips:** Imagine a beer that takes you on an expedition! Reviews often speak of 'adventurous' brews, capturing the essence of exploration and discovery. It's about beers that dare you to step out of your comfort zone, offering exotic and unexpected flavors.\n",
    "\n",
    "2. **Cheerful Gulps:** Then there are the 'cheerful' beers, often described in reviews as light, refreshing, and uplifting. These are the brews that bring smiles and laughter, perfect for a sunny day or a casual gathering with friends.\n",
    "\n",
    "3. **Contemplative Reflections:** On the flip side, some beers make us introspective and 'contemplative.' These are the reviews that talk about rich, complex beers that make you ponder life, often accompanied by deeper, more intense flavors.\n",
    "\n",
    "4. **Energetic Cheers:** 'Energetic' beers are all about vibrancy and liveliness. These reviews are filled with descriptions of bright, zesty, and invigorating beers that are like a burst of energy, ideal for lively parties or to kickstart a great night.\n",
    "\n",
    "5. **Nostalgic Reminiscence:** Some beers take you on a trip down memory lane. These 'nostalgic' brews are often traditional, with a timeless taste that harks back to old memories and cherished moments.\n",
    "\n",
    "6. **Relaxed Sipping:** Lastly, there are beers that embody relaxation. Reviews of 'relaxed' beers often mention smooth, mellow, and comforting flavors, ideal for unwinding after a long day.\n",
    "\n",
    "For every mood considered, it's representation in the emotions space is defined in what we called, the ‘Mood Map’. Here is a tabular representation of that map:\n",
    "\n",
    "\n",
    "| Mood          | High Emotions        | Low Emotions         |\n",
    "|---------------|----------------------|----------------------|\n",
    "| Relaxed       | love                 | anger                |\n",
    "| Cheerful      | joy                  | sadness, anger       |\n",
    "| Nostalgic     | sadness              | surprise, joy        |\n",
    "| Adventurous   | surprise             | fear, sadness        |\n",
    "| Contemplative | love                 | joy                  |\n",
    "| Energetic     | joy                  | fear                 |\n",
    "\n",
    "To apply this mood map, we first need to hardcode it into a dictionnary:"
   ]
  },
  {
   "cell_type": "code",
   "execution_count": 7,
   "id": "669e893d",
   "metadata": {},
   "outputs": [],
   "source": [
    "mood_map = {\n",
    "    \"Relaxed\": {\"high\": [\"love\"], \"low\": [\"anger\"]},\n",
    "    \"Cheerful\": {\"high\": [\"joy\"], \"low\": [\"sadness\", \"anger\"]},\n",
    "    \"Nostalgic\": {\"high\": [\"sadness\"], \"low\": [\"surprise\", \"joy\"]},\n",
    "    \"Adventurous\": {\"high\": [\"surprise\"], \"low\": [\"fear\", \"sadness\"]},\n",
    "    \"Contemplative\": {\"high\": [\"love\"], \"low\": [\"joy\"]},  \n",
    "    \"Energetic\": {\"high\": [\"joy\"], \"low\": [\"fear\"]}  \n",
    "}"
   ]
  },
  {
   "cell_type": "markdown",
   "id": "74a2f38a",
   "metadata": {},
   "source": [
    "### Visual Representation of the mood map\n",
    "\n",
    "Now let's represent this map visually using a network graph:"
   ]
  },
  {
   "cell_type": "code",
   "execution_count": 8,
   "id": "458aa878",
   "metadata": {},
   "outputs": [
    {
     "data": {
      "image/png": "[encoded data removed]",
      "text/plain": [
       "<Figure size 1000x500 with 1 Axes>"
      ]
     },
     "metadata": {},
     "output_type": "display_data"
    }
   ],
   "source": [
    "# Extracting unique emotions for high and low criteria\n",
    "emotions_high = set()\n",
    "emotions_low = set()\n",
    "for mood, criteria in mood_map.items():\n",
    "    emotions_high.update(criteria['high'])\n",
    "    emotions_low.update(criteria['low'])\n",
    "    \n",
    "all_emotions = emotions_high.union(emotions_low)\n",
    "\n",
    "# Create a directed graph\n",
    "G = nx.DiGraph()\n",
    "\n",
    "# Adding mood nodes (middle column) with a specific color\n",
    "mood_color = 'skyblue'\n",
    "for mood in mood_map:\n",
    "    G.add_node(mood, column=1, color=mood_color)\n",
    "\n",
    "# Adding emotion nodes (left and right columns) with a different color\n",
    "emotion_color = 'C1'\n",
    "for emotion in all_emotions:\n",
    "    G.add_node(emotion + \"_high\", column=0, color=emotion_color, label=emotion)  # Left column\n",
    "    G.add_node(emotion + \"_low\", column=2, color=emotion_color, label=emotion)  # Right column\n",
    "\n",
    "# Adding directed edges with colors\n",
    "for mood, criteria in mood_map.items():\n",
    "    for emotion in criteria['high']:\n",
    "        G.add_edge(mood, emotion + \"_high\", color='green')\n",
    "    for emotion in criteria['low']:\n",
    "        G.add_edge(mood, emotion + \"_low\", color='red')\n",
    "\n",
    "# Position nodes in three columns\n",
    "pos = {}\n",
    "y_spacing = len(all_emotions)\n",
    "y_spacing_mood = len(mood_map)\n",
    "\n",
    "# Position for emotions (left and right columns)\n",
    "for idx, emotion in enumerate(sorted(all_emotions)):\n",
    "    pos[emotion + \"_high\"] = (-1, -idx * (y_spacing_mood / y_spacing))  # Left column\n",
    "    pos[emotion + \"_low\"] = (1, -idx * (y_spacing_mood / y_spacing))  # Right column\n",
    "\n",
    "# Position for moods (middle column)\n",
    "for idx, mood in enumerate(sorted(mood_map.keys())):\n",
    "    pos[mood] = (0, -idx)\n",
    "\n",
    "# Extracting node colors\n",
    "node_colors = [data['color'] for node, data in G.nodes(data=True)]\n",
    "\n",
    "# Custom labels for nodes\n",
    "labels = {node: data.get('label', node) for node, data in G.nodes(data=True)}\n",
    "\n",
    "# Extracting edges and their colors\n",
    "edges = G.edges()\n",
    "edge_colors = [G[u][v]['color'] for u, v in edges]\n",
    "\n",
    "# Drawing the directed graph\n",
    "plt.figure(figsize=(10, 5))\n",
    "node_size = 1500  \n",
    "font_size = 8  \n",
    "\n",
    "nx.draw_networkx_nodes(G, pos, node_color=node_colors, node_size=node_size)\n",
    "nx.draw_networkx_labels(G, pos, labels=labels, font_size=font_size)\n",
    "\n",
    "# Drawing edges with smaller arrows\n",
    "nx.draw_networkx_edges(G, pos, edgelist=edges, edge_color=edge_colors, arrows=True, arrowsize=10, node_size=node_size)\n",
    "\n",
    "# Adjusting the legend size and positioning\n",
    "legend_font_size = 7  \n",
    "legend_handle_length = 2 \n",
    "\n",
    "mood_patch = plt.Line2D([0], [0], marker='o', color='w', label='Moods',\n",
    "                        markersize=5, markerfacecolor=mood_color)\n",
    "emotion_patch = plt.Line2D([0], [0], marker='o', color='w', label='Emotions',\n",
    "                           markersize=5, markerfacecolor=emotion_color)\n",
    "high_edge = plt.Line2D([0], [0], color='green', lw=1, label='High Emotion')\n",
    "low_edge = plt.Line2D([0], [0], color='red', lw=1, label='Low Emotion')\n",
    "\n",
    "plt.legend(handles=[mood_patch, emotion_patch, high_edge, low_edge],\n",
    "           fontsize=legend_font_size, handlelength=legend_handle_length, \n",
    "           loc='lower left', bbox_to_anchor=(0.65, 0))\n",
    "\n",
    "plt.axis('off')\n",
    "plt.show()"
   ]
  },
  {
   "cell_type": "markdown",
   "id": "b0a6caa0",
   "metadata": {},
   "source": [
    "### Function to map the emotions to the moods\n",
    "\n",
    "Now we need to define a function that will convert the combinations of 'high', 'low' and 'medium' emotions scores to the corresponding mood.  \n",
    "\n",
    "However, since our Mood Map does not encompass every possible combination of 'high', 'low', and 'medium' emotional states, not all beer styles will be assigned a specific mood. This selective mapping ensures that our mood associations are meaningful and robust, reflecting a clear and strong correlation between beer styles and specific emotional landscapes."
   ]
  },
  {
   "cell_type": "code",
   "execution_count": 9,
   "id": "5a6f6b0f",
   "metadata": {},
   "outputs": [],
   "source": [
    "def map_beer_to_mood(df, mood_map):\n",
    "    \"\"\"\n",
    "    Assigns a mood to each row in the DataFrame based on the emotion scores. If no match is found it returns 'None'.\n",
    "\n",
    "    Parameters:\n",
    "    df (DataFrame): The DataFrame containing beer reviews with emotion scores.\n",
    "    mood_map (dict): Dictionary defining the relationship between each mood and the associated emotions\n",
    "\n",
    "    Returns:\n",
    "    DataFrame: The DataFrame with an additional 'Mood' column.\n",
    "    \"\"\"\n",
    "    def determine_mood(row):\n",
    "        for mood, criteria in mood_map.items():\n",
    "            if all(row[f'{emotion}_score'] == 'High' for emotion in criteria['high']) and \\\n",
    "               all(row[f'{emotion}_score'] == 'Low' for emotion in criteria['low']):\n",
    "                return mood\n",
    "        return None\n",
    "\n",
    "    df['Mood'] = df.apply(determine_mood, axis=1)\n",
    "    return df"
   ]
  },
  {
   "cell_type": "markdown",
   "id": "57b5c0e6",
   "metadata": {},
   "source": [
    "### Results of the Mood mapping\n",
    "\n",
    "Now let's apply that function to the data of both websites. The results of the mood mapping for both websites will then be merged in order to obtain a complete list of beer styles for each mood, regardless of the website of origin. \n",
    "\n",
    "The dataframe obtained, `mood_styles_df`, contains for each mood, the list of styles that were associated to it and a count of the number of styles in that list. "
   ]
  },
  {
   "cell_type": "code",
   "execution_count": 10,
   "id": "b74f6a58",
   "metadata": {},
   "outputs": [
    {
     "data": {
      "text/html": [
       "<div>\n",
       "<style scoped>\n",
       "    .dataframe tbody tr th:only-of-type {\n",
       "        vertical-align: middle;\n",
       "    }\n",
       "\n",
       "    .dataframe tbody tr th {\n",
       "        vertical-align: top;\n",
       "    }\n",
       "\n",
       "    .dataframe thead th {\n",
       "        text-align: right;\n",
       "    }\n",
       "</style>\n",
       "<table border=\"1\" class=\"dataframe\">\n",
       "  <thead>\n",
       "    <tr style=\"text-align: right;\">\n",
       "      <th></th>\n",
       "      <th>Mood</th>\n",
       "      <th>style</th>\n",
       "      <th>num_styles</th>\n",
       "    </tr>\n",
       "  </thead>\n",
       "  <tbody>\n",
       "    <tr>\n",
       "      <th>0</th>\n",
       "      <td>Adventurous</td>\n",
       "      <td>[Lambic - Fruit]</td>\n",
       "      <td>1</td>\n",
       "    </tr>\n",
       "    <tr>\n",
       "      <th>1</th>\n",
       "      <td>Cheerful</td>\n",
       "      <td>[American Blonde Ale, American Pale Lager, Ame...</td>\n",
       "      <td>22</td>\n",
       "    </tr>\n",
       "    <tr>\n",
       "      <th>2</th>\n",
       "      <td>Contemplative</td>\n",
       "      <td>[English Porter, Foreign / Export Stout, Milk ...</td>\n",
       "      <td>13</td>\n",
       "    </tr>\n",
       "    <tr>\n",
       "      <th>3</th>\n",
       "      <td>Energetic</td>\n",
       "      <td>[American IPA, American Wild Ale, Berliner Wei...</td>\n",
       "      <td>13</td>\n",
       "    </tr>\n",
       "    <tr>\n",
       "      <th>4</th>\n",
       "      <td>Nostalgic</td>\n",
       "      <td>[American Black Ale, English Stout, Irish Dry ...</td>\n",
       "      <td>11</td>\n",
       "    </tr>\n",
       "    <tr>\n",
       "      <th>5</th>\n",
       "      <td>Relaxed</td>\n",
       "      <td>[Bière de Garde, Braggot, Faro, Happoshu, Kvas...</td>\n",
       "      <td>16</td>\n",
       "    </tr>\n",
       "  </tbody>\n",
       "</table>\n",
       "</div>"
      ],
      "text/plain": [
       "            Mood                                              style  \\\n",
       "0    Adventurous                                   [Lambic - Fruit]   \n",
       "1       Cheerful  [American Blonde Ale, American Pale Lager, Ame...   \n",
       "2  Contemplative  [English Porter, Foreign / Export Stout, Milk ...   \n",
       "3      Energetic  [American IPA, American Wild Ale, Berliner Wei...   \n",
       "4      Nostalgic  [American Black Ale, English Stout, Irish Dry ...   \n",
       "5        Relaxed  [Bière de Garde, Braggot, Faro, Happoshu, Kvas...   \n",
       "\n",
       "   num_styles  \n",
       "0           1  \n",
       "1          22  \n",
       "2          13  \n",
       "3          13  \n",
       "4          11  \n",
       "5          16  "
      ]
     },
     "execution_count": 10,
     "metadata": {},
     "output_type": "execute_result"
    }
   ],
   "source": [
    "# Apply the map_beer_to_mood function to the data of both websites\n",
    "df_ba_mapped = map_beer_to_mood(df_ba_transformed.copy(), mood_map)\n",
    "df_rb_mapped = map_beer_to_mood(df_rb_transformed.copy(), mood_map)\n",
    "\n",
    "# Combine both DataFrames\n",
    "combined_df = pd.concat([df_ba_mapped, df_rb_mapped])\n",
    "\n",
    "# Group by 'Mood' and aggregate 'style' into a list, then add a count of beer styles\n",
    "mood_styles_df = combined_df.groupby('Mood')['style'].apply(list).reset_index()\n",
    "mood_styles_df['num_styles'] = mood_styles_df['style'].apply(len)\n",
    "\n",
    "mood_styles_df"
   ]
  },
  {
   "cell_type": "markdown",
   "id": "54781079",
   "metadata": {},
   "source": [
    "Here we can see that all of the 6 moods were assigned at least one beer style. Since the results of both dataframes were merged, let's look at potential duplicates and the proportion of styles succesfuly mapped to a mood. \n",
    "\n",
    "First let's look at how many styles we have in total, including the data from both websites."
   ]
  },
  {
   "cell_type": "code",
   "execution_count": 11,
   "id": "34b25d6a",
   "metadata": {},
   "outputs": [
    {
     "name": "stdout",
     "output_type": "stream",
     "text": [
      "We have a total of 169 unique styles.\n"
     ]
    }
   ],
   "source": [
    "all_styles = pd.concat([df_ba_mapped['style'], df_rb_mapped['style']])\n",
    "\n",
    "print(f'We have a total of {len(all_styles.unique())} unique styles.')"
   ]
  },
  {
   "cell_type": "markdown",
   "id": "69e57478",
   "metadata": {},
   "source": [
    "Now let's look at the proportion of all the beer styles succesfully mapped to a mood:"
   ]
  },
  {
   "cell_type": "code",
   "execution_count": 12,
   "id": "3195ec59",
   "metadata": {},
   "outputs": [
    {
     "name": "stdout",
     "output_type": "stream",
     "text": [
      "We have a total of 76 styles succefully mapped, from which 74 are unique.\n"
     ]
    }
   ],
   "source": [
    "mapped_styles = mood_styles_df.explode('style')\n",
    "\n",
    "print(f\"\"\"We have a total of {len(mapped_styles['style'])} styles succefully mapped, from which {len(mapped_styles['style'].unique())} are unique.\"\"\")"
   ]
  },
  {
   "cell_type": "markdown",
   "id": "4bda27b7",
   "metadata": {},
   "source": [
    "This means that 2 styles were mapped to two different moods depending on the website from which the reviews were considered. since the websites were treated seperately in the analysis, this does not pose a problem. Since 74 different styles were mathed from the original 169, it means that 44% of the beer styles were succesfully matched."
   ]
  },
  {
   "cell_type": "markdown",
   "id": "979f8f3d",
   "metadata": {},
   "source": [
    "### Visualization of the results\n",
    "\n",
    "Let's visualize the results, different graphs will be provided, each presenting a different angle.\n",
    "\n",
    "For better visualization, let's first define a consistent list a colors for each mood, using a dictionnary:"
   ]
  },
  {
   "cell_type": "code",
   "execution_count": 13,
   "id": "fe9dba12",
   "metadata": {},
   "outputs": [],
   "source": [
    "mood_colors = {\n",
    "    'Cheerful': '#FFEB3B',      # Yellow\n",
    "    'Nostalgic': '#009688',     # Softer blue\n",
    "    'Adventurous': '#800080',   # Purple\n",
    "    'Contemplative': '#8B0000', # Deep red\n",
    "    'Energetic': '#FF6F00',     # Bright yellow\n",
    "    'Relaxed': '#9ACD32',       # Bright yellow\n",
    "}"
   ]
  },
  {
   "cell_type": "markdown",
   "id": "ddcd4fa7",
   "metadata": {},
   "source": [
    "#### 1. Pie Chart\n",
    "\n",
    "This first graph will show, from the styles that were succesfully mapped, the proportion of each mood being assigned."
   ]
  },
  {
   "cell_type": "code",
   "execution_count": 14,
   "id": "9c91a3bd",
   "metadata": {
    "scrolled": false
   },
   "outputs": [
    {
     "data": {
      "image/png": "[encoded data removed]",
      "text/plain": [
       "<Figure size 500x500 with 1 Axes>"
      ]
     },
     "metadata": {},
     "output_type": "display_data"
    }
   ],
   "source": [
    "# Extracting colors for the corresponding moods\n",
    "colors = [mood_colors[mood] for mood in mood_styles_df['Mood']]\n",
    "\n",
    "# Creating the pie chart\n",
    "plt.figure(figsize=(5, 5))\n",
    "plt.pie(mood_styles_df['num_styles'], labels=mood_styles_df['Mood'], autopct='%1.1f%%', startangle=140, colors=colors)\n",
    "plt.title('Distribution of Moods in Succesfully Mapped Styles')\n",
    "plt.show()"
   ]
  },
  {
   "cell_type": "markdown",
   "id": "bf5bf5c6",
   "metadata": {},
   "source": [
    "#### 2. Bar Plot\n",
    "\n",
    "This second plot will represent the number of beer styles attributed to each mood."
   ]
  },
  {
   "cell_type": "code",
   "execution_count": 15,
   "id": "f0953464",
   "metadata": {},
   "outputs": [
    {
     "data": {
      "image/png": "[encoded data removed]",
      "text/plain": [
       "<Figure size 600x400 with 1 Axes>"
      ]
     },
     "metadata": {},
     "output_type": "display_data"
    }
   ],
   "source": [
    "plt.figure(figsize=(6, 4))\n",
    "\n",
    "# Manually plotting each bar for consistent coloring\n",
    "for i, mood in enumerate(mood_styles_df['Mood']):\n",
    "    plt.bar(mood, mood_styles_df['num_styles'][i], color=mood_colors[mood])\n",
    "\n",
    "plt.title('Number of Beer Styles per Mood')\n",
    "plt.xlabel('Mood')\n",
    "plt.ylabel('Number of Beer Styles')\n",
    "plt.xticks(rotation=45)\n",
    "plt.show()"
   ]
  },
  {
   "cell_type": "markdown",
   "id": "82815b8b",
   "metadata": {},
   "source": [
    "#### 3. Interactive interface showing the beer styles for the selected mood\n",
    "\n",
    "As a final product, let's create an interactive interface that would allow the user to choose a mood, and then receive a list of suggested beer styles for that mood:"
   ]
  },
  {
   "cell_type": "code",
   "execution_count": 25,
   "id": "3928c3d2",
   "metadata": {},
   "outputs": [
    {
     "data": {
      "application/vnd.plotly.v1+json": {
       "config": {
        "plotlyServerURL": "https://plot.ly"
       },
       "data": [
        {
         "mode": "text",
         "text": [
          "Lambic - Fruit"
         ],
         "type": "scatter",
         "x": [
          0
         ],
         "y": [
          0
         ]
        }
       ],
       "layout": {
        "template": {
         "data": {
          "bar": [
           {
            "error_x": {
             "color": "#2a3f5f"
            },
            "error_y": {
             "color": "#2a3f5f"
            },
            "marker": {
             "line": {
              "color": "#E5ECF6",
              "width": 0.5
             },
             "pattern": {
              "fillmode": "overlay",
              "size": 10,
              "solidity": 0.2
             }
            },
            "type": "bar"
           }
          ],
          "barpolar": [
           {
            "marker": {
             "line": {
              "color": "#E5ECF6",
              "width": 0.5
             },
             "pattern": {
              "fillmode": "overlay",
              "size": 10,
              "solidity": 0.2
             }
            },
            "type": "barpolar"
           }
          ],
          "carpet": [
           {
            "aaxis": {
             "endlinecolor": "#2a3f5f",
             "gridcolor": "white",
             "linecolor": "white",
             "minorgridcolor": "white",
             "startlinecolor": "#2a3f5f"
            },
            "baxis": {
             "endlinecolor": "#2a3f5f",
             "gridcolor": "white",
             "linecolor": "white",
             "minorgridcolor": "white",
             "startlinecolor": "#2a3f5f"
            },
            "type": "carpet"
           }
          ],
          "choropleth": [
           {
            "colorbar": {
             "outlinewidth": 0,
             "ticks": ""
            },
            "type": "choropleth"
           }
          ],
          "contour": [
           {
            "colorbar": {
             "outlinewidth": 0,
             "ticks": ""
            },
            "colorscale": [
             [
              0,
              "#0d0887"
             ],
             [
              0.1111111111111111,
              "#46039f"
             ],
             [
              0.2222222222222222,
              "#7201a8"
             ],
             [
              0.3333333333333333,
              "#9c179e"
             ],
             [
              0.4444444444444444,
              "#bd3786"
             ],
             [
              0.5555555555555556,
              "#d8576b"
             ],
             [
              0.6666666666666666,
              "#ed7953"
             ],
             [
              0.7777777777777778,
              "#fb9f3a"
             ],
             [
              0.8888888888888888,
              "#fdca26"
             ],
             [
              1,
              "#f0f921"
             ]
            ],
            "type": "contour"
           }
          ],
          "contourcarpet": [
           {
            "colorbar": {
             "outlinewidth": 0,
             "ticks": ""
            },
            "type": "contourcarpet"
           }
          ],
          "heatmap": [
           {
            "colorbar": {
             "outlinewidth": 0,
             "ticks": ""
            },
            "colorscale": [
             [
              0,
              "#0d0887"
             ],
             [
              0.1111111111111111,
              "#46039f"
             ],
             [
              0.2222222222222222,
              "#7201a8"
             ],
             [
              0.3333333333333333,
              "#9c179e"
             ],
             [
              0.4444444444444444,
              "#bd3786"
             ],
             [
              0.5555555555555556,
              "#d8576b"
             ],
             [
              0.6666666666666666,
              "#ed7953"
             ],
             [
              0.7777777777777778,
              "#fb9f3a"
             ],
             [
              0.8888888888888888,
              "#fdca26"
             ],
             [
              1,
              "#f0f921"
             ]
            ],
            "type": "heatmap"
           }
          ],
          "heatmapgl": [
           {
            "colorbar": {
             "outlinewidth": 0,
             "ticks": ""
            },
            "colorscale": [
             [
              0,
              "#0d0887"
             ],
             [
              0.1111111111111111,
              "#46039f"
             ],
             [
              0.2222222222222222,
              "#7201a8"
             ],
             [
              0.3333333333333333,
              "#9c179e"
             ],
             [
              0.4444444444444444,
              "#bd3786"
             ],
             [
              0.5555555555555556,
              "#d8576b"
             ],
             [
              0.6666666666666666,
              "#ed7953"
             ],
             [
              0.7777777777777778,
              "#fb9f3a"
             ],
             [
              0.8888888888888888,
              "#fdca26"
             ],
             [
              1,
              "#f0f921"
             ]
            ],
            "type": "heatmapgl"
           }
          ],
          "histogram": [
           {
            "marker": {
             "pattern": {
              "fillmode": "overlay",
              "size": 10,
              "solidity": 0.2
             }
            },
            "type": "histogram"
           }
          ],
          "histogram2d": [
           {
            "colorbar": {
             "outlinewidth": 0,
             "ticks": ""
            },
            "colorscale": [
             [
              0,
              "#0d0887"
             ],
             [
              0.1111111111111111,
              "#46039f"
             ],
             [
              0.2222222222222222,
              "#7201a8"
             ],
             [
              0.3333333333333333,
              "#9c179e"
             ],
             [
              0.4444444444444444,
              "#bd3786"
             ],
             [
              0.5555555555555556,
              "#d8576b"
             ],
             [
              0.6666666666666666,
              "#ed7953"
             ],
             [
              0.7777777777777778,
              "#fb9f3a"
             ],
             [
              0.8888888888888888,
              "#fdca26"
             ],
             [
              1,
              "#f0f921"
             ]
            ],
            "type": "histogram2d"
           }
          ],
          "histogram2dcontour": [
           {
            "colorbar": {
             "outlinewidth": 0,
             "ticks": ""
            },
            "colorscale": [
             [
              0,
              "#0d0887"
             ],
             [
              0.1111111111111111,
              "#46039f"
             ],
             [
              0.2222222222222222,
              "#7201a8"
             ],
             [
              0.3333333333333333,
              "#9c179e"
             ],
             [
              0.4444444444444444,
              "#bd3786"
             ],
             [
              0.5555555555555556,
              "#d8576b"
             ],
             [
              0.6666666666666666,
              "#ed7953"
             ],
             [
              0.7777777777777778,
              "#fb9f3a"
             ],
             [
              0.8888888888888888,
              "#fdca26"
             ],
             [
              1,
              "#f0f921"
             ]
            ],
            "type": "histogram2dcontour"
           }
          ],
          "mesh3d": [
           {
            "colorbar": {
             "outlinewidth": 0,
             "ticks": ""
            },
            "type": "mesh3d"
           }
          ],
          "parcoords": [
           {
            "line": {
             "colorbar": {
              "outlinewidth": 0,
              "ticks": ""
             }
            },
            "type": "parcoords"
           }
          ],
          "pie": [
           {
            "automargin": true,
            "type": "pie"
           }
          ],
          "scatter": [
           {
            "fillpattern": {
             "fillmode": "overlay",
             "size": 10,
             "solidity": 0.2
            },
            "type": "scatter"
           }
          ],
          "scatter3d": [
           {
            "line": {
             "colorbar": {
              "outlinewidth": 0,
              "ticks": ""
             }
            },
            "marker": {
             "colorbar": {
              "outlinewidth": 0,
              "ticks": ""
             }
            },
            "type": "scatter3d"
           }
          ],
          "scattercarpet": [
           {
            "marker": {
             "colorbar": {
              "outlinewidth": 0,
              "ticks": ""
             }
            },
            "type": "scattercarpet"
           }
          ],
          "scattergeo": [
           {
            "marker": {
             "colorbar": {
              "outlinewidth": 0,
              "ticks": ""
             }
            },
            "type": "scattergeo"
           }
          ],
          "scattergl": [
           {
            "marker": {
             "colorbar": {
              "outlinewidth": 0,
              "ticks": ""
             }
            },
            "type": "scattergl"
           }
          ],
          "scattermapbox": [
           {
            "marker": {
             "colorbar": {
              "outlinewidth": 0,
              "ticks": ""
             }
            },
            "type": "scattermapbox"
           }
          ],
          "scatterpolar": [
           {
            "marker": {
             "colorbar": {
              "outlinewidth": 0,
              "ticks": ""
             }
            },
            "type": "scatterpolar"
           }
          ],
          "scatterpolargl": [
           {
            "marker": {
             "colorbar": {
              "outlinewidth": 0,
              "ticks": ""
             }
            },
            "type": "scatterpolargl"
           }
          ],
          "scatterternary": [
           {
            "marker": {
             "colorbar": {
              "outlinewidth": 0,
              "ticks": ""
             }
            },
            "type": "scatterternary"
           }
          ],
          "surface": [
           {
            "colorbar": {
             "outlinewidth": 0,
             "ticks": ""
            },
            "colorscale": [
             [
              0,
              "#0d0887"
             ],
             [
              0.1111111111111111,
              "#46039f"
             ],
             [
              0.2222222222222222,
              "#7201a8"
             ],
             [
              0.3333333333333333,
              "#9c179e"
             ],
             [
              0.4444444444444444,
              "#bd3786"
             ],
             [
              0.5555555555555556,
              "#d8576b"
             ],
             [
              0.6666666666666666,
              "#ed7953"
             ],
             [
              0.7777777777777778,
              "#fb9f3a"
             ],
             [
              0.8888888888888888,
              "#fdca26"
             ],
             [
              1,
              "#f0f921"
             ]
            ],
            "type": "surface"
           }
          ],
          "table": [
           {
            "cells": {
             "fill": {
              "color": "#EBF0F8"
             },
             "line": {
              "color": "white"
             }
            },
            "header": {
             "fill": {
              "color": "#C8D4E3"
             },
             "line": {
              "color": "white"
             }
            },
            "type": "table"
           }
          ]
         },
         "layout": {
          "annotationdefaults": {
           "arrowcolor": "#2a3f5f",
           "arrowhead": 0,
           "arrowwidth": 1
          },
          "autotypenumbers": "strict",
          "coloraxis": {
           "colorbar": {
            "outlinewidth": 0,
            "ticks": ""
           }
          },
          "colorscale": {
           "diverging": [
            [
             0,
             "#8e0152"
            ],
            [
             0.1,
             "#c51b7d"
            ],
            [
             0.2,
             "#de77ae"
            ],
            [
             0.3,
             "#f1b6da"
            ],
            [
             0.4,
             "#fde0ef"
            ],
            [
             0.5,
             "#f7f7f7"
            ],
            [
             0.6,
             "#e6f5d0"
            ],
            [
             0.7,
             "#b8e186"
            ],
            [
             0.8,
             "#7fbc41"
            ],
            [
             0.9,
             "#4d9221"
            ],
            [
             1,
             "#276419"
            ]
           ],
           "sequential": [
            [
             0,
             "#0d0887"
            ],
            [
             0.1111111111111111,
             "#46039f"
            ],
            [
             0.2222222222222222,
             "#7201a8"
            ],
            [
             0.3333333333333333,
             "#9c179e"
            ],
            [
             0.4444444444444444,
             "#bd3786"
            ],
            [
             0.5555555555555556,
             "#d8576b"
            ],
            [
             0.6666666666666666,
             "#ed7953"
            ],
            [
             0.7777777777777778,
             "#fb9f3a"
            ],
            [
             0.8888888888888888,
             "#fdca26"
            ],
            [
             1,
             "#f0f921"
            ]
           ],
           "sequentialminus": [
            [
             0,
             "#0d0887"
            ],
            [
             0.1111111111111111,
             "#46039f"
            ],
            [
             0.2222222222222222,
             "#7201a8"
            ],
            [
             0.3333333333333333,
             "#9c179e"
            ],
            [
             0.4444444444444444,
             "#bd3786"
            ],
            [
             0.5555555555555556,
             "#d8576b"
            ],
            [
             0.6666666666666666,
             "#ed7953"
            ],
            [
             0.7777777777777778,
             "#fb9f3a"
            ],
            [
             0.8888888888888888,
             "#fdca26"
            ],
            [
             1,
             "#f0f921"
            ]
           ]
          },
          "colorway": [
           "#636efa",
           "#EF553B",
           "#00cc96",
           "#ab63fa",
           "#FFA15A",
           "#19d3f3",
           "#FF6692",
           "#B6E880",
           "#FF97FF",
           "#FECB52"
          ],
          "font": {
           "color": "#2a3f5f"
          },
          "geo": {
           "bgcolor": "white",
           "lakecolor": "white",
           "landcolor": "#E5ECF6",
           "showlakes": true,
           "showland": true,
           "subunitcolor": "white"
          },
          "hoverlabel": {
           "align": "left"
          },
          "hovermode": "closest",
          "mapbox": {
           "style": "light"
          },
          "paper_bgcolor": "white",
          "plot_bgcolor": "#E5ECF6",
          "polar": {
           "angularaxis": {
            "gridcolor": "white",
            "linecolor": "white",
            "ticks": ""
           },
           "bgcolor": "#E5ECF6",
           "radialaxis": {
            "gridcolor": "white",
            "linecolor": "white",
            "ticks": ""
           }
          },
          "scene": {
           "xaxis": {
            "backgroundcolor": "#E5ECF6",
            "gridcolor": "white",
            "gridwidth": 2,
            "linecolor": "white",
            "showbackground": true,
            "ticks": "",
            "zerolinecolor": "white"
           },
           "yaxis": {
            "backgroundcolor": "#E5ECF6",
            "gridcolor": "white",
            "gridwidth": 2,
            "linecolor": "white",
            "showbackground": true,
            "ticks": "",
            "zerolinecolor": "white"
           },
           "zaxis": {
            "backgroundcolor": "#E5ECF6",
            "gridcolor": "white",
            "gridwidth": 2,
            "linecolor": "white",
            "showbackground": true,
            "ticks": "",
            "zerolinecolor": "white"
           }
          },
          "shapedefaults": {
           "line": {
            "color": "#2a3f5f"
           }
          },
          "ternary": {
           "aaxis": {
            "gridcolor": "white",
            "linecolor": "white",
            "ticks": ""
           },
           "baxis": {
            "gridcolor": "white",
            "linecolor": "white",
            "ticks": ""
           },
           "bgcolor": "#E5ECF6",
           "caxis": {
            "gridcolor": "white",
            "linecolor": "white",
            "ticks": ""
           }
          },
          "title": {
           "x": 0.05
          },
          "xaxis": {
           "automargin": true,
           "gridcolor": "white",
           "linecolor": "white",
           "ticks": "",
           "title": {
            "standoff": 15
           },
           "zerolinecolor": "white",
           "zerolinewidth": 2
          },
          "yaxis": {
           "automargin": true,
           "gridcolor": "white",
           "linecolor": "white",
           "ticks": "",
           "title": {
            "standoff": 15
           },
           "zerolinecolor": "white",
           "zerolinewidth": 2
          }
         }
        },
        "title": {
         "text": "Interactive Visualization of Beer Styles by Mood"
        },
        "updatemenus": [
         {
          "buttons": [
           {
            "args": [
             {
              "text": [
               "Lambic - Fruit"
              ]
             }
            ],
            "label": "Adventurous",
            "method": "update"
           },
           {
            "args": [
             {
              "text": [
               "American Blonde Ale<br>American Pale Lager<br>American Pale Wheat Ale<br>Belgian Pale Ale<br>Belgian Strong Pale Ale<br>Fruit / Vegetable Beer<br>Gose<br>Kölsch<br>Lambic - Unblended<br>Pumpkin Ale<br>Tripel<br>Berliner Weisse<br>Cider<br>Dortmunder/Helles<br>Fruit Beer<br>Grodziskie/Gose/Lichtenhainer<br>Kölsch<br>Pilsener<br>Radler/Shandy<br>Saison<br>Wheat Ale<br>Witbier"
              ]
             }
            ],
            "label": "Cheerful",
            "method": "update"
           },
           {
            "args": [
             {
              "text": [
               "English Porter<br>Foreign / Export Stout<br>Milk / Sweet Stout<br>Roggenbier<br>Russian Imperial Stout<br>Schwarzbier<br>Altbier<br>Amber Lager/Vienna<br>Dunkel/Tmavý<br>Dunkler Bock<br>Irish Ale<br>Mild Ale<br>Old Ale"
              ]
             }
            ],
            "label": "Contemplative",
            "method": "update"
           },
           {
            "args": [
             {
              "text": [
               "American IPA<br>American Wild Ale<br>Berliner Weissbier<br>Czech Pilsener<br>Gueuze<br>Kellerbier / Zwickelbier<br>Munich Helles Lager<br>American Pale Ale<br>Czech Pilsner (Světlý)<br>India Pale Ale (IPA)<br>Lambic Style - Unblended<br>Session IPA<br>Sour/Wild Ale"
              ]
             }
            ],
            "label": "Energetic",
            "method": "update"
           },
           {
            "args": [
             {
              "text": [
               "American Black Ale<br>English Stout<br>Irish Dry Stout<br>Munich Dunkel Lager<br>Oatmeal Stout<br>Black IPA<br>Dry Stout<br>Foreign Stout<br>Imperial Porter<br>Porter<br>Stout"
              ]
             }
            ],
            "label": "Nostalgic",
            "method": "update"
           },
           {
            "args": [
             {
              "text": [
               "Bière de Garde<br>Braggot<br>Faro<br>Happoshu<br>Kvass<br>Saison / Farmhouse Ale<br>Weizenbock<br>Witbier<br>Abbey Tripel<br>Cream Ale<br>Golden Ale/Blond Ale<br>Lambic Style - Faro<br>Lambic Style - Fruit<br>Lambic Style - Gueuze<br>Mead<br>Zwickel/Keller/Landbier"
              ]
             }
            ],
            "label": "Relaxed",
            "method": "update"
           }
          ],
          "direction": "down",
          "pad": {
           "r": 10,
           "t": 10
          },
          "showactive": true,
          "x": 0.1,
          "xanchor": "left",
          "y": 1.1,
          "yanchor": "top"
         }
        ],
        "xaxis": {
         "showticklabels": false,
         "visible": false
        },
        "yaxis": {
         "showticklabels": false,
         "visible": false
        }
       }
      },
      "text/html": [
       "<div>                            <div id=\"240fd99a-c248-429a-b702-1475e6ef4346\" class=\"plotly-graph-div\" style=\"height:525px; width:100%;\"></div>            <script type=\"text/javascript\">                require([\"plotly\"], function(Plotly) {                    window.PLOTLYENV=window.PLOTLYENV || {};                                    if (document.getElementById(\"240fd99a-c248-429a-b702-1475e6ef4346\")) {                    Plotly.newPlot(                        \"240fd99a-c248-429a-b702-1475e6ef4346\",                        [{\"mode\":\"text\",\"text\":[\"Lambic - Fruit\"],\"x\":[0],\"y\":[0],\"type\":\"scatter\"}],                        {\"template\":{\"data\":{\"histogram2dcontour\":[{\"type\":\"histogram2dcontour\",\"colorbar\":{\"outlinewidth\":0,\"ticks\":\"\"},\"colorscale\":[[0.0,\"#0d0887\"],[0.1111111111111111,\"#46039f\"],[0.2222222222222222,\"#7201a8\"],[0.3333333333333333,\"#9c179e\"],[0.4444444444444444,\"#bd3786\"],[0.5555555555555556,\"#d8576b\"],[0.6666666666666666,\"#ed7953\"],[0.7777777777777778,\"#fb9f3a\"],[0.8888888888888888,\"#fdca26\"],[1.0,\"#f0f921\"]]}],\"choropleth\":[{\"type\":\"choropleth\",\"colorbar\":{\"outlinewidth\":0,\"ticks\":\"\"}}],\"histogram2d\":[{\"type\":\"histogram2d\",\"colorbar\":{\"outlinewidth\":0,\"ticks\":\"\"},\"colorscale\":[[0.0,\"#0d0887\"],[0.1111111111111111,\"#46039f\"],[0.2222222222222222,\"#7201a8\"],[0.3333333333333333,\"#9c179e\"],[0.4444444444444444,\"#bd3786\"],[0.5555555555555556,\"#d8576b\"],[0.6666666666666666,\"#ed7953\"],[0.7777777777777778,\"#fb9f3a\"],[0.8888888888888888,\"#fdca26\"],[1.0,\"#f0f921\"]]}],\"heatmap\":[{\"type\":\"heatmap\",\"colorbar\":{\"outlinewidth\":0,\"ticks\":\"\"},\"colorscale\":[[0.0,\"#0d0887\"],[0.1111111111111111,\"#46039f\"],[0.2222222222222222,\"#7201a8\"],[0.3333333333333333,\"#9c179e\"],[0.4444444444444444,\"#bd3786\"],[0.5555555555555556,\"#d8576b\"],[0.6666666666666666,\"#ed7953\"],[0.7777777777777778,\"#fb9f3a\"],[0.8888888888888888,\"#fdca26\"],[1.0,\"#f0f921\"]]}],\"heatmapgl\":[{\"type\":\"heatmapgl\",\"colorbar\":{\"outlinewidth\":0,\"ticks\":\"\"},\"colorscale\":[[0.0,\"#0d0887\"],[0.1111111111111111,\"#46039f\"],[0.2222222222222222,\"#7201a8\"],[0.3333333333333333,\"#9c179e\"],[0.4444444444444444,\"#bd3786\"],[0.5555555555555556,\"#d8576b\"],[0.6666666666666666,\"#ed7953\"],[0.7777777777777778,\"#fb9f3a\"],[0.8888888888888888,\"#fdca26\"],[1.0,\"#f0f921\"]]}],\"contourcarpet\":[{\"type\":\"contourcarpet\",\"colorbar\":{\"outlinewidth\":0,\"ticks\":\"\"}}],\"contour\":[{\"type\":\"contour\",\"colorbar\":{\"outlinewidth\":0,\"ticks\":\"\"},\"colorscale\":[[0.0,\"#0d0887\"],[0.1111111111111111,\"#46039f\"],[0.2222222222222222,\"#7201a8\"],[0.3333333333333333,\"#9c179e\"],[0.4444444444444444,\"#bd3786\"],[0.5555555555555556,\"#d8576b\"],[0.6666666666666666,\"#ed7953\"],[0.7777777777777778,\"#fb9f3a\"],[0.8888888888888888,\"#fdca26\"],[1.0,\"#f0f921\"]]}],\"surface\":[{\"type\":\"surface\",\"colorbar\":{\"outlinewidth\":0,\"ticks\":\"\"},\"colorscale\":[[0.0,\"#0d0887\"],[0.1111111111111111,\"#46039f\"],[0.2222222222222222,\"#7201a8\"],[0.3333333333333333,\"#9c179e\"],[0.4444444444444444,\"#bd3786\"],[0.5555555555555556,\"#d8576b\"],[0.6666666666666666,\"#ed7953\"],[0.7777777777777778,\"#fb9f3a\"],[0.8888888888888888,\"#fdca26\"],[1.0,\"#f0f921\"]]}],\"mesh3d\":[{\"type\":\"mesh3d\",\"colorbar\":{\"outlinewidth\":0,\"ticks\":\"\"}}],\"scatter\":[{\"fillpattern\":{\"fillmode\":\"overlay\",\"size\":10,\"solidity\":0.2},\"type\":\"scatter\"}],\"parcoords\":[{\"type\":\"parcoords\",\"line\":{\"colorbar\":{\"outlinewidth\":0,\"ticks\":\"\"}}}],\"scatterpolargl\":[{\"type\":\"scatterpolargl\",\"marker\":{\"colorbar\":{\"outlinewidth\":0,\"ticks\":\"\"}}}],\"bar\":[{\"error_x\":{\"color\":\"#2a3f5f\"},\"error_y\":{\"color\":\"#2a3f5f\"},\"marker\":{\"line\":{\"color\":\"#E5ECF6\",\"width\":0.5},\"pattern\":{\"fillmode\":\"overlay\",\"size\":10,\"solidity\":0.2}},\"type\":\"bar\"}],\"scattergeo\":[{\"type\":\"scattergeo\",\"marker\":{\"colorbar\":{\"outlinewidth\":0,\"ticks\":\"\"}}}],\"scatterpolar\":[{\"type\":\"scatterpolar\",\"marker\":{\"colorbar\":{\"outlinewidth\":0,\"ticks\":\"\"}}}],\"histogram\":[{\"marker\":{\"pattern\":{\"fillmode\":\"overlay\",\"size\":10,\"solidity\":0.2}},\"type\":\"histogram\"}],\"scattergl\":[{\"type\":\"scattergl\",\"marker\":{\"colorbar\":{\"outlinewidth\":0,\"ticks\":\"\"}}}],\"scatter3d\":[{\"type\":\"scatter3d\",\"line\":{\"colorbar\":{\"outlinewidth\":0,\"ticks\":\"\"}},\"marker\":{\"colorbar\":{\"outlinewidth\":0,\"ticks\":\"\"}}}],\"scattermapbox\":[{\"type\":\"scattermapbox\",\"marker\":{\"colorbar\":{\"outlinewidth\":0,\"ticks\":\"\"}}}],\"scatterternary\":[{\"type\":\"scatterternary\",\"marker\":{\"colorbar\":{\"outlinewidth\":0,\"ticks\":\"\"}}}],\"scattercarpet\":[{\"type\":\"scattercarpet\",\"marker\":{\"colorbar\":{\"outlinewidth\":0,\"ticks\":\"\"}}}],\"carpet\":[{\"aaxis\":{\"endlinecolor\":\"#2a3f5f\",\"gridcolor\":\"white\",\"linecolor\":\"white\",\"minorgridcolor\":\"white\",\"startlinecolor\":\"#2a3f5f\"},\"baxis\":{\"endlinecolor\":\"#2a3f5f\",\"gridcolor\":\"white\",\"linecolor\":\"white\",\"minorgridcolor\":\"white\",\"startlinecolor\":\"#2a3f5f\"},\"type\":\"carpet\"}],\"table\":[{\"cells\":{\"fill\":{\"color\":\"#EBF0F8\"},\"line\":{\"color\":\"white\"}},\"header\":{\"fill\":{\"color\":\"#C8D4E3\"},\"line\":{\"color\":\"white\"}},\"type\":\"table\"}],\"barpolar\":[{\"marker\":{\"line\":{\"color\":\"#E5ECF6\",\"width\":0.5},\"pattern\":{\"fillmode\":\"overlay\",\"size\":10,\"solidity\":0.2}},\"type\":\"barpolar\"}],\"pie\":[{\"automargin\":true,\"type\":\"pie\"}]},\"layout\":{\"autotypenumbers\":\"strict\",\"colorway\":[\"#636efa\",\"#EF553B\",\"#00cc96\",\"#ab63fa\",\"#FFA15A\",\"#19d3f3\",\"#FF6692\",\"#B6E880\",\"#FF97FF\",\"#FECB52\"],\"font\":{\"color\":\"#2a3f5f\"},\"hovermode\":\"closest\",\"hoverlabel\":{\"align\":\"left\"},\"paper_bgcolor\":\"white\",\"plot_bgcolor\":\"#E5ECF6\",\"polar\":{\"bgcolor\":\"#E5ECF6\",\"angularaxis\":{\"gridcolor\":\"white\",\"linecolor\":\"white\",\"ticks\":\"\"},\"radialaxis\":{\"gridcolor\":\"white\",\"linecolor\":\"white\",\"ticks\":\"\"}},\"ternary\":{\"bgcolor\":\"#E5ECF6\",\"aaxis\":{\"gridcolor\":\"white\",\"linecolor\":\"white\",\"ticks\":\"\"},\"baxis\":{\"gridcolor\":\"white\",\"linecolor\":\"white\",\"ticks\":\"\"},\"caxis\":{\"gridcolor\":\"white\",\"linecolor\":\"white\",\"ticks\":\"\"}},\"coloraxis\":{\"colorbar\":{\"outlinewidth\":0,\"ticks\":\"\"}},\"colorscale\":{\"sequential\":[[0.0,\"#0d0887\"],[0.1111111111111111,\"#46039f\"],[0.2222222222222222,\"#7201a8\"],[0.3333333333333333,\"#9c179e\"],[0.4444444444444444,\"#bd3786\"],[0.5555555555555556,\"#d8576b\"],[0.6666666666666666,\"#ed7953\"],[0.7777777777777778,\"#fb9f3a\"],[0.8888888888888888,\"#fdca26\"],[1.0,\"#f0f921\"]],\"sequentialminus\":[[0.0,\"#0d0887\"],[0.1111111111111111,\"#46039f\"],[0.2222222222222222,\"#7201a8\"],[0.3333333333333333,\"#9c179e\"],[0.4444444444444444,\"#bd3786\"],[0.5555555555555556,\"#d8576b\"],[0.6666666666666666,\"#ed7953\"],[0.7777777777777778,\"#fb9f3a\"],[0.8888888888888888,\"#fdca26\"],[1.0,\"#f0f921\"]],\"diverging\":[[0,\"#8e0152\"],[0.1,\"#c51b7d\"],[0.2,\"#de77ae\"],[0.3,\"#f1b6da\"],[0.4,\"#fde0ef\"],[0.5,\"#f7f7f7\"],[0.6,\"#e6f5d0\"],[0.7,\"#b8e186\"],[0.8,\"#7fbc41\"],[0.9,\"#4d9221\"],[1,\"#276419\"]]},\"xaxis\":{\"gridcolor\":\"white\",\"linecolor\":\"white\",\"ticks\":\"\",\"title\":{\"standoff\":15},\"zerolinecolor\":\"white\",\"automargin\":true,\"zerolinewidth\":2},\"yaxis\":{\"gridcolor\":\"white\",\"linecolor\":\"white\",\"ticks\":\"\",\"title\":{\"standoff\":15},\"zerolinecolor\":\"white\",\"automargin\":true,\"zerolinewidth\":2},\"scene\":{\"xaxis\":{\"backgroundcolor\":\"#E5ECF6\",\"gridcolor\":\"white\",\"linecolor\":\"white\",\"showbackground\":true,\"ticks\":\"\",\"zerolinecolor\":\"white\",\"gridwidth\":2},\"yaxis\":{\"backgroundcolor\":\"#E5ECF6\",\"gridcolor\":\"white\",\"linecolor\":\"white\",\"showbackground\":true,\"ticks\":\"\",\"zerolinecolor\":\"white\",\"gridwidth\":2},\"zaxis\":{\"backgroundcolor\":\"#E5ECF6\",\"gridcolor\":\"white\",\"linecolor\":\"white\",\"showbackground\":true,\"ticks\":\"\",\"zerolinecolor\":\"white\",\"gridwidth\":2}},\"shapedefaults\":{\"line\":{\"color\":\"#2a3f5f\"}},\"annotationdefaults\":{\"arrowcolor\":\"#2a3f5f\",\"arrowhead\":0,\"arrowwidth\":1},\"geo\":{\"bgcolor\":\"white\",\"landcolor\":\"#E5ECF6\",\"subunitcolor\":\"white\",\"showland\":true,\"showlakes\":true,\"lakecolor\":\"white\"},\"title\":{\"x\":0.05},\"mapbox\":{\"style\":\"light\"}}},\"xaxis\":{\"visible\":false,\"showticklabels\":false},\"yaxis\":{\"visible\":false,\"showticklabels\":false},\"updatemenus\":[{\"buttons\":[{\"args\":[{\"text\":[\"Lambic - Fruit\"]}],\"label\":\"Adventurous\",\"method\":\"update\"},{\"args\":[{\"text\":[\"American Blonde Ale<br>American Pale Lager<br>American Pale Wheat Ale<br>Belgian Pale Ale<br>Belgian Strong Pale Ale<br>Fruit / Vegetable Beer<br>Gose<br>K\\u00f6lsch<br>Lambic - Unblended<br>Pumpkin Ale<br>Tripel<br>Berliner Weisse<br>Cider<br>Dortmunder/Helles<br>Fruit Beer<br>Grodziskie/Gose/Lichtenhainer<br>K\\u00f6lsch<br>Pilsener<br>Radler/Shandy<br>Saison<br>Wheat Ale<br>Witbier\"]}],\"label\":\"Cheerful\",\"method\":\"update\"},{\"args\":[{\"text\":[\"English Porter<br>Foreign / Export Stout<br>Milk / Sweet Stout<br>Roggenbier<br>Russian Imperial Stout<br>Schwarzbier<br>Altbier<br>Amber Lager/Vienna<br>Dunkel/Tmav\\u00fd<br>Dunkler Bock<br>Irish Ale<br>Mild Ale<br>Old Ale\"]}],\"label\":\"Contemplative\",\"method\":\"update\"},{\"args\":[{\"text\":[\"American IPA<br>American Wild Ale<br>Berliner Weissbier<br>Czech Pilsener<br>Gueuze<br>Kellerbier / Zwickelbier<br>Munich Helles Lager<br>American Pale Ale<br>Czech Pilsner (Sv\\u011btl\\u00fd)<br>India Pale Ale (IPA)<br>Lambic Style - Unblended<br>Session IPA<br>Sour/Wild Ale\"]}],\"label\":\"Energetic\",\"method\":\"update\"},{\"args\":[{\"text\":[\"American Black Ale<br>English Stout<br>Irish Dry Stout<br>Munich Dunkel Lager<br>Oatmeal Stout<br>Black IPA<br>Dry Stout<br>Foreign Stout<br>Imperial Porter<br>Porter<br>Stout\"]}],\"label\":\"Nostalgic\",\"method\":\"update\"},{\"args\":[{\"text\":[\"Bi\\u00e8re de Garde<br>Braggot<br>Faro<br>Happoshu<br>Kvass<br>Saison / Farmhouse Ale<br>Weizenbock<br>Witbier<br>Abbey Tripel<br>Cream Ale<br>Golden Ale/Blond Ale<br>Lambic Style - Faro<br>Lambic Style - Fruit<br>Lambic Style - Gueuze<br>Mead<br>Zwickel/Keller/Landbier\"]}],\"label\":\"Relaxed\",\"method\":\"update\"}],\"direction\":\"down\",\"pad\":{\"r\":10,\"t\":10},\"showactive\":true,\"x\":0.1,\"xanchor\":\"left\",\"y\":1.1,\"yanchor\":\"top\"}],\"title\":{\"text\":\"Interactive Visualization of Beer Styles by Mood\"}},                        {\"responsive\": true}                    ).then(function(){\n",
       "                            \n",
       "var gd = document.getElementById('240fd99a-c248-429a-b702-1475e6ef4346');\n",
       "var x = new MutationObserver(function (mutations, observer) {{\n",
       "        var display = window.getComputedStyle(gd).display;\n",
       "        if (!display || display === 'none') {{\n",
       "            console.log([gd, 'removed!']);\n",
       "            Plotly.purge(gd);\n",
       "            observer.disconnect();\n",
       "        }}\n",
       "}});\n",
       "\n",
       "// Listen for the removal of the full notebook cells\n",
       "var notebookContainer = gd.closest('#notebook-container');\n",
       "if (notebookContainer) {{\n",
       "    x.observe(notebookContainer, {childList: true});\n",
       "}}\n",
       "\n",
       "// Listen for the clearing of the current output cell\n",
       "var outputEl = gd.closest('.output');\n",
       "if (outputEl) {{\n",
       "    x.observe(outputEl, {childList: true});\n",
       "}}\n",
       "\n",
       "                        })                };                });            </script>        </div>"
      ]
     },
     "metadata": {},
     "output_type": "display_data"
    }
   ],
   "source": [
    "def create_display_text(mood, mood_styles_df):\n",
    "    \"\"\"\n",
    "    Creates display text for the given mood with beer styles separated by line breaks.\n",
    "\n",
    "    Parameters:\n",
    "    mood (str): The mood for which to create the display text.\n",
    "    mood_styles_df (DataFrame): DataFrame containing moods and associated beer styles.\n",
    "\n",
    "    Returns:\n",
    "    str: A string representing the beer styles associated with the mood, separated by line breaks.\n",
    "    \"\"\"\n",
    "    styles = mood_styles_df[mood_styles_df['Mood'] == mood]['style'].iloc[0]\n",
    "    return \"<br>\".join(styles)\n",
    "\n",
    "# Initialize the figure\n",
    "fig = go.Figure()\n",
    "\n",
    "# Initial display text\n",
    "initial_mood = mood_styles_df['Mood'].iloc[0]\n",
    "initial_text = create_display_text(initial_mood, mood_styles_df)\n",
    "\n",
    "# Add the initial text to the figure\n",
    "fig.add_trace(go.Scatter(x=[0], y=[0], text=[initial_text], mode=\"text\"))\n",
    "\n",
    "# Update layout for dropdown menu and other settings\n",
    "fig.update_layout(\n",
    "    updatemenus=[\n",
    "        dict(\n",
    "            buttons=[dict(label=mood, method=\"update\", \n",
    "                          args=[{\"text\": [create_display_text(mood, mood_styles_df)]}]) \n",
    "                    for mood in mood_styles_df['Mood']],\n",
    "            direction=\"down\",\n",
    "            pad={\"r\": 10, \"t\": 10},\n",
    "            showactive=True,\n",
    "            x=0.1,\n",
    "            xanchor=\"left\",\n",
    "            y=1.1,\n",
    "            yanchor=\"top\"\n",
    "        ),\n",
    "    ],\n",
    "    title=\"Interactive Visualization of Beer Styles by Mood\",\n",
    "    xaxis={'visible': False, 'showticklabels': False},\n",
    "    yaxis={'visible': False, 'showticklabels': False}\n",
    ")\n",
    "\n",
    "fig.show()"
   ]
  },
  {
   "cell_type": "markdown",
   "id": "58bfa7fe",
   "metadata": {},
   "source": [
    "Another interesting question to ask is the following:\n",
    "\n",
    "### What moods do the best-selling beers tend to match?\n",
    "\n",
    "As the 20 most popular styles for each websites were identified earlier in the analysis, this question can easily be answered.\n",
    "\n",
    "First we need to load the corresponding data and quickly pre-process in the same way as in Milestone 2:"
   ]
  },
  {
   "cell_type": "code",
   "execution_count": 17,
   "id": "3b0d445a",
   "metadata": {},
   "outputs": [],
   "source": [
    "rb = pd.read_csv(\".\\\\matched_beer_data\\\\ratings_with_text_rb.csv\", sep = \",\", header = 0)\n",
    "ba = pd.read_csv(\".\\\\matched_beer_data\\\\ratings_with_text_ba.csv\", sep = \",\", header = 0)\n",
    "\n",
    "ba_copy = ba.copy()\n",
    "ba_no_duplicates = ba_copy.drop_duplicates() \n",
    "ba_filtered = ba_no_duplicates.dropna(subset=['text'], how='all')\n",
    "\n",
    "rb_copy = rb.copy()\n",
    "rb_no_duplicates = rb_copy.drop_duplicates()\n",
    "rb_filtered = rb_no_duplicates.dropna(subset=['text'], how='all')"
   ]
  },
  {
   "cell_type": "markdown",
   "id": "881ebacd",
   "metadata": {},
   "source": [
    "Let's now count the number of reviews for each style and isolate the top 20 styles for each website :"
   ]
  },
  {
   "cell_type": "code",
   "execution_count": 18,
   "id": "cf3f424e",
   "metadata": {},
   "outputs": [
    {
     "data": {
      "text/plain": [
       "style\n",
       "American IPA                        35088\n",
       "American Double / Imperial IPA      23047\n",
       "American Pale Ale (APA)             15423\n",
       "Saison / Farmhouse Ale              13149\n",
       "American Double / Imperial Stout     9485\n",
       "American Wild Ale                    9212\n",
       "American Amber / Red Ale             9091\n",
       "Belgian Strong Pale Ale              6897\n",
       "American Porter                      6761\n",
       "Russian Imperial Stout               6435\n",
       "American Brown Ale                   6033\n",
       "Fruit / Vegetable Beer               5608\n",
       "Quadrupel (Quad)                     5415\n",
       "Belgian Strong Dark Ale              5313\n",
       "Witbier                              5026\n",
       "Märzen / Oktoberfest                 4723\n",
       "American Blonde Ale                  4481\n",
       "Doppelbock                           4336\n",
       "German Pilsener                      3765\n",
       "American Black Ale                   3713\n",
       "Name: count, dtype: int64"
      ]
     },
     "execution_count": 18,
     "metadata": {},
     "output_type": "execute_result"
    }
   ],
   "source": [
    "# Aggregate review counts by beer style for BA\n",
    "style_counts_ba = ba_filtered['style'].value_counts()\n",
    "\n",
    "# Select the top 20 styles \n",
    "top_styles_ba = style_counts_ba.head(20)\n",
    "\n",
    "top_styles_ba"
   ]
  },
  {
   "cell_type": "code",
   "execution_count": 19,
   "id": "7f05222f",
   "metadata": {},
   "outputs": [
    {
     "data": {
      "text/plain": [
       "style\n",
       "India Pale Ale (IPA)    105718\n",
       "American Pale Ale        50813\n",
       "Imperial IPA             50424\n",
       "Imperial Stout           44973\n",
       "Saison                   43722\n",
       "Belgian Strong Ale       42738\n",
       "Belgian Ale              32827\n",
       "Sour/Wild Ale            31820\n",
       "Porter                   31362\n",
       "Golden Ale/Blond Ale     26488\n",
       "Amber Ale                23488\n",
       "Pilsener                 21748\n",
       "Brown Ale                21627\n",
       "Spice/Herb/Vegetable     21350\n",
       "Fruit Beer               21071\n",
       "Stout                    19489\n",
       "Black IPA                18903\n",
       "Witbier                  17353\n",
       "Barley Wine              15172\n",
       "Abbey Tripel             14642\n",
       "Name: count, dtype: int64"
      ]
     },
     "execution_count": 19,
     "metadata": {},
     "output_type": "execute_result"
    }
   ],
   "source": [
    "# Aggregate review counts by beer style for RB\n",
    "style_counts_rb = rb_filtered['style'].value_counts()\n",
    "\n",
    "# Select the top 20 styles \n",
    "top_styles_rb = style_counts_rb.head(20)\n",
    "\n",
    "top_styles_rb"
   ]
  },
  {
   "cell_type": "markdown",
   "id": "5ed118d2",
   "metadata": {},
   "source": [
    "These results can now be combined with the mood mapping and produce some interting plots\n",
    "\n",
    "#### Pie Chart of Mood Distributions among top 20 beer styles\n",
    "\n",
    "This first chart will consider only the top 20 beer styles from each website, and represented the proportion of each mood represented in this list, regardless of the position of the style within that top 20."
   ]
  },
  {
   "cell_type": "code",
   "execution_count": 20,
   "id": "3ae21a7d",
   "metadata": {},
   "outputs": [
    {
     "data": {
      "image/png": "[encoded data removed]",
      "text/plain": [
       "<Figure size 1400x600 with 2 Axes>"
      ]
     },
     "metadata": {},
     "output_type": "display_data"
    }
   ],
   "source": [
    "# Step 1: Explode the mood_styles_df DataFrame for mapping\n",
    "mood_styles_expanded = mood_styles_df.explode('style')\n",
    "\n",
    "# Step 2: Create a mapping from style to mood\n",
    "style_to_mood = dict(zip(mood_styles_expanded['style'], mood_styles_expanded['Mood']))\n",
    "\n",
    "def assign_moods(top_styles, style_to_mood):\n",
    "    \"\"\"\n",
    "    Assigns moods to beer styles and counts the frequency of each mood.\n",
    "\n",
    "    Parameters:\n",
    "    top_styles (Series): Series of top beer styles.\n",
    "    style_to_mood (dict): Mapping from beer styles to moods.\n",
    "\n",
    "    Returns:\n",
    "    Series: Counts of moods for the given beer styles.\n",
    "    \"\"\"\n",
    "    moods = top_styles.index.map(lambda x: style_to_mood.get(x, 'Undetermined'))\n",
    "    return pd.Series(moods).value_counts()\n",
    "\n",
    "# Step 3: Count Moods in both datasets\n",
    "ba_mood_distribution = assign_moods(top_styles_ba, style_to_mood)\n",
    "rb_mood_distribution = assign_moods(top_styles_rb, style_to_mood)\n",
    "\n",
    "# Define a grey color for the 'Undertermined' beer styles \n",
    "mood_colors['Undetermined'] = 'lightgrey'\n",
    "\n",
    "# Sort by mood name for consistency in visualization\n",
    "ba_mood_distribution.sort_index(inplace=True)\n",
    "rb_mood_distribution.sort_index(inplace=True)\n",
    "\n",
    "# Step 4: Create a pie chart\n",
    "fig, axs = plt.subplots(1, 2, figsize=(14, 6))\n",
    "\n",
    "# BA Top Styles\n",
    "axs[0].pie(ba_mood_distribution, labels=ba_mood_distribution.index, autopct='%1.1f%%', startangle=0,\n",
    "           colors=[mood_colors[mood] for mood in ba_mood_distribution.index])\n",
    "axs[0].set_title('Mood Distribution in Top 20 Beer Styles on Beer Advocate')\n",
    "\n",
    "# RB Top Styles\n",
    "axs[1].pie(rb_mood_distribution, labels=rb_mood_distribution.index, autopct='%1.1f%%', startangle=0,\n",
    "           colors=[mood_colors[mood] for mood in rb_mood_distribution.index])\n",
    "axs[1].set_title('Mood Distribution in Top 20 Beer Styles on RateBeer')\n",
    "\n",
    "plt.tight_layout()\n",
    "plt.show()"
   ]
  },
  {
   "cell_type": "markdown",
   "id": "df1c7bc3",
   "metadata": {},
   "source": [
    "This plot provide valuable insight into the mood distribution amongst the most popular styles. However, the position of each beer style in the top 20 seems like an important information, and is not shown here. Let's try to include that information by weighting the slices of the pies by the popularity of each styles:\n",
    "\n",
    "#### Same plot but weighted by the populairty of the beer style among the top 20"
   ]
  },
  {
   "cell_type": "code",
   "execution_count": 21,
   "id": "c72807b4",
   "metadata": {},
   "outputs": [
    {
     "data": {
      "image/png": "[encoded data removed]",
      "text/plain": [
       "<Figure size 1400x600 with 2 Axes>"
      ]
     },
     "metadata": {},
     "output_type": "display_data"
    }
   ],
   "source": [
    "def weight_moods_by_popularity(top_styles, style_to_mood):\n",
    "    \"\"\"\n",
    "    Assigns moods to beer styles and calculates the weighted popularity of each mood.\n",
    "\n",
    "    Parameters:\n",
    "    top_styles (Series): Series with beer styles as index and their popularity count as values.\n",
    "    style_to_mood (dict): Mapping from beer styles to moods.\n",
    "\n",
    "    Returns:\n",
    "    Series: Weighted popularity of moods.\n",
    "    \"\"\"\n",
    "    mood_popularity = {}\n",
    "    for style, count in top_styles.items():\n",
    "        mood = style_to_mood.get(style, 'Undetermined')\n",
    "        mood_popularity[mood] = mood_popularity.get(mood, 0) + count\n",
    "    return pd.Series(mood_popularity)\n",
    "\n",
    "# Step 3: Weight Moods by Popularity\n",
    "ba_mood_weighted = weight_moods_by_popularity(top_styles_ba, style_to_mood)\n",
    "rb_mood_weighted = weight_moods_by_popularity(top_styles_rb, style_to_mood)\n",
    "\n",
    "# Step 4: Create Weighted Pie Charts\n",
    "fig, axs = plt.subplots(1, 2, figsize=(14, 6))\n",
    "\n",
    "# Pie chart for Beer Advocate (BA) Top Styles\n",
    "axs[0].pie(ba_mood_weighted, labels=ba_mood_weighted.index, autopct='%1.1f%%', startangle=140,\n",
    "           colors=[mood_colors.get(mood, 'lightgrey') for mood in ba_mood_weighted.index])\n",
    "axs[0].set_title('Weighted Mood Distribution in Top 20 Beer Styles on Beer Advocate')\n",
    "\n",
    "# Pie chart for RateBeer (RB) Top Styles\n",
    "axs[1].pie(rb_mood_weighted, labels=rb_mood_weighted.index, autopct='%1.1f%%', startangle=140,\n",
    "           colors=[mood_colors.get(mood, 'lightgrey') for mood in rb_mood_weighted.index])\n",
    "axs[1].set_title('Weighted Mood Distribution in Top 20 Beer Styles on RateBeer')\n",
    "\n",
    "plt.tight_layout()\n",
    "plt.show()"
   ]
  },
  {
   "cell_type": "markdown",
   "id": "fdb04b0c",
   "metadata": {},
   "source": [
    "# for website interaction"
   ]
  },
  {
   "cell_type": "code",
   "execution_count": null,
   "id": "dfe0336b",
   "metadata": {},
   "outputs": [],
   "source": [
    "import pandas as pd  \n",
    "\n",
    "ba_excel_path = 'ba_styles_moods.xlsx' \n",
    "df_ba_mapped.to_excel(ba_excel_path, index=False)  \n",
    "\n",
    "rb_excel_path = 'rb_styles_moods.xlsx' \n",
    "df_rb_mapped.to_excel(rb_excel_path, index=False)  "
   ]
  },
  {
   "cell_type": "code",
   "execution_count": null,
   "id": "ba601c71",
   "metadata": {},
   "outputs": [],
   "source": [
    "df_ba_mapped = df_ba_mapped.rename(columns={\"Mood\": \"Mood_ba\"})\n",
    "df_rb_mapped = df_rb_mapped.rename(columns={\"Mood\": \"Mood_rb\"})\n",
    "\n",
    "merged_df = pd.merge(df_ba_mapped[['style', 'Mood_ba']], \n",
    "                     df_rb_mapped[['style', 'Mood_rb']], \n",
    "                     on='style', \n",
    "                     how='outer')\n",
    "\n",
    "excel_path = 'combined_styles_moods.xlsx'  \n",
    "merged_df.to_excel(excel_path, index=False)  \n"
   ]
  },
  {
   "cell_type": "markdown",
   "id": "f95665aa",
   "metadata": {},
   "source": [
    "There are only 2 conflicting beer styles which one of them matches with same mood and one not."
   ]
  },
  {
   "cell_type": "code",
   "execution_count": 13,
   "id": "046d658d",
   "metadata": {},
   "outputs": [],
   "source": [
    "filtered_df = merged_df[merged_df['style'] != 'Witbier']"
   ]
  },
  {
   "cell_type": "code",
   "execution_count": 14,
   "id": "e53d8a5d",
   "metadata": {},
   "outputs": [
    {
     "data": {
      "text/html": [
       "<div>\n",
       "<style scoped>\n",
       "    .dataframe tbody tr th:only-of-type {\n",
       "        vertical-align: middle;\n",
       "    }\n",
       "\n",
       "    .dataframe tbody tr th {\n",
       "        vertical-align: top;\n",
       "    }\n",
       "\n",
       "    .dataframe thead th {\n",
       "        text-align: right;\n",
       "    }\n",
       "</style>\n",
       "<table border=\"1\" class=\"dataframe\">\n",
       "  <thead>\n",
       "    <tr style=\"text-align: right;\">\n",
       "      <th></th>\n",
       "      <th>style</th>\n",
       "      <th>Mood_ba</th>\n",
       "      <th>Mood_rb</th>\n",
       "    </tr>\n",
       "  </thead>\n",
       "  <tbody>\n",
       "    <tr>\n",
       "      <th>0</th>\n",
       "      <td>Altbier</td>\n",
       "      <td>None</td>\n",
       "      <td>Contemplative</td>\n",
       "    </tr>\n",
       "    <tr>\n",
       "      <th>1</th>\n",
       "      <td>American Adjunct Lager</td>\n",
       "      <td>None</td>\n",
       "      <td>NaN</td>\n",
       "    </tr>\n",
       "    <tr>\n",
       "      <th>2</th>\n",
       "      <td>American Amber / Red Ale</td>\n",
       "      <td>None</td>\n",
       "      <td>NaN</td>\n",
       "    </tr>\n",
       "    <tr>\n",
       "      <th>3</th>\n",
       "      <td>American Amber / Red Lager</td>\n",
       "      <td>None</td>\n",
       "      <td>NaN</td>\n",
       "    </tr>\n",
       "    <tr>\n",
       "      <th>4</th>\n",
       "      <td>American Barleywine</td>\n",
       "      <td>None</td>\n",
       "      <td>NaN</td>\n",
       "    </tr>\n",
       "    <tr>\n",
       "      <th>...</th>\n",
       "      <td>...</td>\n",
       "      <td>...</td>\n",
       "      <td>...</td>\n",
       "    </tr>\n",
       "    <tr>\n",
       "      <th>164</th>\n",
       "      <td>Sweet Stout</td>\n",
       "      <td>NaN</td>\n",
       "      <td>None</td>\n",
       "    </tr>\n",
       "    <tr>\n",
       "      <th>165</th>\n",
       "      <td>Traditional Ale</td>\n",
       "      <td>NaN</td>\n",
       "      <td>None</td>\n",
       "    </tr>\n",
       "    <tr>\n",
       "      <th>166</th>\n",
       "      <td>Weizen Bock</td>\n",
       "      <td>NaN</td>\n",
       "      <td>None</td>\n",
       "    </tr>\n",
       "    <tr>\n",
       "      <th>167</th>\n",
       "      <td>Wheat Ale</td>\n",
       "      <td>NaN</td>\n",
       "      <td>Cheerful</td>\n",
       "    </tr>\n",
       "    <tr>\n",
       "      <th>168</th>\n",
       "      <td>Zwickel/Keller/Landbier</td>\n",
       "      <td>NaN</td>\n",
       "      <td>Relaxed</td>\n",
       "    </tr>\n",
       "  </tbody>\n",
       "</table>\n",
       "<p>168 rows × 3 columns</p>\n",
       "</div>"
      ],
      "text/plain": [
       "                          style Mood_ba        Mood_rb\n",
       "0                       Altbier    None  Contemplative\n",
       "1        American Adjunct Lager    None            NaN\n",
       "2      American Amber / Red Ale    None            NaN\n",
       "3    American Amber / Red Lager    None            NaN\n",
       "4           American Barleywine    None            NaN\n",
       "..                          ...     ...            ...\n",
       "164                 Sweet Stout     NaN           None\n",
       "165             Traditional Ale     NaN           None\n",
       "166                 Weizen Bock     NaN           None\n",
       "167                   Wheat Ale     NaN       Cheerful\n",
       "168     Zwickel/Keller/Landbier     NaN        Relaxed\n",
       "\n",
       "[168 rows x 3 columns]"
      ]
     },
     "execution_count": 14,
     "metadata": {},
     "output_type": "execute_result"
    }
   ],
   "source": [
    "filtered_df"
   ]
  },
  {
   "cell_type": "code",
   "execution_count": 15,
   "id": "950c35c1",
   "metadata": {},
   "outputs": [],
   "source": [
    "filtered_df = merged_df[merged_df['style'] != 'Witbier']\n",
    "\n",
    "filtered_df = filtered_df.dropna(subset=['Mood_ba', 'Mood_rb'], how='all')\n",
    "\n",
    "filtered_df['Mood'] = filtered_df['Mood_ba'].combine_first(filtered_df['Mood_rb'])\n",
    "\n",
    "# Select only the relevant columns: 'style' and 'Mood'\n",
    "final_df = filtered_df[['style', 'Mood']]"
   ]
  },
  {
   "cell_type": "code",
   "execution_count": 16,
   "id": "1906c3c9",
   "metadata": {},
   "outputs": [
    {
     "data": {
      "text/html": [
       "<div>\n",
       "<style scoped>\n",
       "    .dataframe tbody tr th:only-of-type {\n",
       "        vertical-align: middle;\n",
       "    }\n",
       "\n",
       "    .dataframe tbody tr th {\n",
       "        vertical-align: top;\n",
       "    }\n",
       "\n",
       "    .dataframe thead th {\n",
       "        text-align: right;\n",
       "    }\n",
       "</style>\n",
       "<table border=\"1\" class=\"dataframe\">\n",
       "  <thead>\n",
       "    <tr style=\"text-align: right;\">\n",
       "      <th></th>\n",
       "      <th>style</th>\n",
       "      <th>Mood</th>\n",
       "    </tr>\n",
       "  </thead>\n",
       "  <tbody>\n",
       "    <tr>\n",
       "      <th>0</th>\n",
       "      <td>Altbier</td>\n",
       "      <td>Contemplative</td>\n",
       "    </tr>\n",
       "    <tr>\n",
       "      <th>5</th>\n",
       "      <td>American Black Ale</td>\n",
       "      <td>Nostalgic</td>\n",
       "    </tr>\n",
       "    <tr>\n",
       "      <th>6</th>\n",
       "      <td>American Blonde Ale</td>\n",
       "      <td>Cheerful</td>\n",
       "    </tr>\n",
       "    <tr>\n",
       "      <th>12</th>\n",
       "      <td>American IPA</td>\n",
       "      <td>Energetic</td>\n",
       "    </tr>\n",
       "    <tr>\n",
       "      <th>15</th>\n",
       "      <td>American Pale Lager</td>\n",
       "      <td>Cheerful</td>\n",
       "    </tr>\n",
       "    <tr>\n",
       "      <th>...</th>\n",
       "      <td>...</td>\n",
       "      <td>...</td>\n",
       "    </tr>\n",
       "    <tr>\n",
       "      <th>157</th>\n",
       "      <td>Session IPA</td>\n",
       "      <td>Energetic</td>\n",
       "    </tr>\n",
       "    <tr>\n",
       "      <th>160</th>\n",
       "      <td>Sour/Wild Ale</td>\n",
       "      <td>Energetic</td>\n",
       "    </tr>\n",
       "    <tr>\n",
       "      <th>163</th>\n",
       "      <td>Stout</td>\n",
       "      <td>Nostalgic</td>\n",
       "    </tr>\n",
       "    <tr>\n",
       "      <th>167</th>\n",
       "      <td>Wheat Ale</td>\n",
       "      <td>Cheerful</td>\n",
       "    </tr>\n",
       "    <tr>\n",
       "      <th>168</th>\n",
       "      <td>Zwickel/Keller/Landbier</td>\n",
       "      <td>Relaxed</td>\n",
       "    </tr>\n",
       "  </tbody>\n",
       "</table>\n",
       "<p>73 rows × 2 columns</p>\n",
       "</div>"
      ],
      "text/plain": [
       "                       style           Mood\n",
       "0                    Altbier  Contemplative\n",
       "5         American Black Ale      Nostalgic\n",
       "6        American Blonde Ale       Cheerful\n",
       "12              American IPA      Energetic\n",
       "15       American Pale Lager       Cheerful\n",
       "..                       ...            ...\n",
       "157              Session IPA      Energetic\n",
       "160            Sour/Wild Ale      Energetic\n",
       "163                    Stout      Nostalgic\n",
       "167                Wheat Ale       Cheerful\n",
       "168  Zwickel/Keller/Landbier        Relaxed\n",
       "\n",
       "[73 rows x 2 columns]"
      ]
     },
     "execution_count": 16,
     "metadata": {},
     "output_type": "execute_result"
    }
   ],
   "source": [
    "final_df"
   ]
  },
  {
   "cell_type": "code",
   "execution_count": 24,
   "id": "91bad229",
   "metadata": {},
   "outputs": [
    {
     "data": {
      "application/vnd.plotly.v1+json": {
       "config": {
        "plotlyServerURL": "https://plot.ly"
       },
       "data": [
        {
         "cells": {
          "align": "left",
          "fill": {
           "color": "#FFFFE0"
          },
          "values": [
           [],
           []
          ]
         },
         "header": {
          "align": "left",
          "fill": {
           "color": "#8B4513"
          },
          "values": [
           "Beer Style",
           "Mood"
          ]
         },
         "type": "table"
        }
       ],
       "layout": {
        "template": {
         "data": {
          "bar": [
           {
            "error_x": {
             "color": "#2a3f5f"
            },
            "error_y": {
             "color": "#2a3f5f"
            },
            "marker": {
             "line": {
              "color": "#E5ECF6",
              "width": 0.5
             },
             "pattern": {
              "fillmode": "overlay",
              "size": 10,
              "solidity": 0.2
             }
            },
            "type": "bar"
           }
          ],
          "barpolar": [
           {
            "marker": {
             "line": {
              "color": "#E5ECF6",
              "width": 0.5
             },
             "pattern": {
              "fillmode": "overlay",
              "size": 10,
              "solidity": 0.2
             }
            },
            "type": "barpolar"
           }
          ],
          "carpet": [
           {
            "aaxis": {
             "endlinecolor": "#2a3f5f",
             "gridcolor": "white",
             "linecolor": "white",
             "minorgridcolor": "white",
             "startlinecolor": "#2a3f5f"
            },
            "baxis": {
             "endlinecolor": "#2a3f5f",
             "gridcolor": "white",
             "linecolor": "white",
             "minorgridcolor": "white",
             "startlinecolor": "#2a3f5f"
            },
            "type": "carpet"
           }
          ],
          "choropleth": [
           {
            "colorbar": {
             "outlinewidth": 0,
             "ticks": ""
            },
            "type": "choropleth"
           }
          ],
          "contour": [
           {
            "colorbar": {
             "outlinewidth": 0,
             "ticks": ""
            },
            "colorscale": [
             [
              0,
              "#0d0887"
             ],
             [
              0.1111111111111111,
              "#46039f"
             ],
             [
              0.2222222222222222,
              "#7201a8"
             ],
             [
              0.3333333333333333,
              "#9c179e"
             ],
             [
              0.4444444444444444,
              "#bd3786"
             ],
             [
              0.5555555555555556,
              "#d8576b"
             ],
             [
              0.6666666666666666,
              "#ed7953"
             ],
             [
              0.7777777777777778,
              "#fb9f3a"
             ],
             [
              0.8888888888888888,
              "#fdca26"
             ],
             [
              1,
              "#f0f921"
             ]
            ],
            "type": "contour"
           }
          ],
          "contourcarpet": [
           {
            "colorbar": {
             "outlinewidth": 0,
             "ticks": ""
            },
            "type": "contourcarpet"
           }
          ],
          "heatmap": [
           {
            "colorbar": {
             "outlinewidth": 0,
             "ticks": ""
            },
            "colorscale": [
             [
              0,
              "#0d0887"
             ],
             [
              0.1111111111111111,
              "#46039f"
             ],
             [
              0.2222222222222222,
              "#7201a8"
             ],
             [
              0.3333333333333333,
              "#9c179e"
             ],
             [
              0.4444444444444444,
              "#bd3786"
             ],
             [
              0.5555555555555556,
              "#d8576b"
             ],
             [
              0.6666666666666666,
              "#ed7953"
             ],
             [
              0.7777777777777778,
              "#fb9f3a"
             ],
             [
              0.8888888888888888,
              "#fdca26"
             ],
             [
              1,
              "#f0f921"
             ]
            ],
            "type": "heatmap"
           }
          ],
          "heatmapgl": [
           {
            "colorbar": {
             "outlinewidth": 0,
             "ticks": ""
            },
            "colorscale": [
             [
              0,
              "#0d0887"
             ],
             [
              0.1111111111111111,
              "#46039f"
             ],
             [
              0.2222222222222222,
              "#7201a8"
             ],
             [
              0.3333333333333333,
              "#9c179e"
             ],
             [
              0.4444444444444444,
              "#bd3786"
             ],
             [
              0.5555555555555556,
              "#d8576b"
             ],
             [
              0.6666666666666666,
              "#ed7953"
             ],
             [
              0.7777777777777778,
              "#fb9f3a"
             ],
             [
              0.8888888888888888,
              "#fdca26"
             ],
             [
              1,
              "#f0f921"
             ]
            ],
            "type": "heatmapgl"
           }
          ],
          "histogram": [
           {
            "marker": {
             "pattern": {
              "fillmode": "overlay",
              "size": 10,
              "solidity": 0.2
             }
            },
            "type": "histogram"
           }
          ],
          "histogram2d": [
           {
            "colorbar": {
             "outlinewidth": 0,
             "ticks": ""
            },
            "colorscale": [
             [
              0,
              "#0d0887"
             ],
             [
              0.1111111111111111,
              "#46039f"
             ],
             [
              0.2222222222222222,
              "#7201a8"
             ],
             [
              0.3333333333333333,
              "#9c179e"
             ],
             [
              0.4444444444444444,
              "#bd3786"
             ],
             [
              0.5555555555555556,
              "#d8576b"
             ],
             [
              0.6666666666666666,
              "#ed7953"
             ],
             [
              0.7777777777777778,
              "#fb9f3a"
             ],
             [
              0.8888888888888888,
              "#fdca26"
             ],
             [
              1,
              "#f0f921"
             ]
            ],
            "type": "histogram2d"
           }
          ],
          "histogram2dcontour": [
           {
            "colorbar": {
             "outlinewidth": 0,
             "ticks": ""
            },
            "colorscale": [
             [
              0,
              "#0d0887"
             ],
             [
              0.1111111111111111,
              "#46039f"
             ],
             [
              0.2222222222222222,
              "#7201a8"
             ],
             [
              0.3333333333333333,
              "#9c179e"
             ],
             [
              0.4444444444444444,
              "#bd3786"
             ],
             [
              0.5555555555555556,
              "#d8576b"
             ],
             [
              0.6666666666666666,
              "#ed7953"
             ],
             [
              0.7777777777777778,
              "#fb9f3a"
             ],
             [
              0.8888888888888888,
              "#fdca26"
             ],
             [
              1,
              "#f0f921"
             ]
            ],
            "type": "histogram2dcontour"
           }
          ],
          "mesh3d": [
           {
            "colorbar": {
             "outlinewidth": 0,
             "ticks": ""
            },
            "type": "mesh3d"
           }
          ],
          "parcoords": [
           {
            "line": {
             "colorbar": {
              "outlinewidth": 0,
              "ticks": ""
             }
            },
            "type": "parcoords"
           }
          ],
          "pie": [
           {
            "automargin": true,
            "type": "pie"
           }
          ],
          "scatter": [
           {
            "fillpattern": {
             "fillmode": "overlay",
             "size": 10,
             "solidity": 0.2
            },
            "type": "scatter"
           }
          ],
          "scatter3d": [
           {
            "line": {
             "colorbar": {
              "outlinewidth": 0,
              "ticks": ""
             }
            },
            "marker": {
             "colorbar": {
              "outlinewidth": 0,
              "ticks": ""
             }
            },
            "type": "scatter3d"
           }
          ],
          "scattercarpet": [
           {
            "marker": {
             "colorbar": {
              "outlinewidth": 0,
              "ticks": ""
             }
            },
            "type": "scattercarpet"
           }
          ],
          "scattergeo": [
           {
            "marker": {
             "colorbar": {
              "outlinewidth": 0,
              "ticks": ""
             }
            },
            "type": "scattergeo"
           }
          ],
          "scattergl": [
           {
            "marker": {
             "colorbar": {
              "outlinewidth": 0,
              "ticks": ""
             }
            },
            "type": "scattergl"
           }
          ],
          "scattermapbox": [
           {
            "marker": {
             "colorbar": {
              "outlinewidth": 0,
              "ticks": ""
             }
            },
            "type": "scattermapbox"
           }
          ],
          "scatterpolar": [
           {
            "marker": {
             "colorbar": {
              "outlinewidth": 0,
              "ticks": ""
             }
            },
            "type": "scatterpolar"
           }
          ],
          "scatterpolargl": [
           {
            "marker": {
             "colorbar": {
              "outlinewidth": 0,
              "ticks": ""
             }
            },
            "type": "scatterpolargl"
           }
          ],
          "scatterternary": [
           {
            "marker": {
             "colorbar": {
              "outlinewidth": 0,
              "ticks": ""
             }
            },
            "type": "scatterternary"
           }
          ],
          "surface": [
           {
            "colorbar": {
             "outlinewidth": 0,
             "ticks": ""
            },
            "colorscale": [
             [
              0,
              "#0d0887"
             ],
             [
              0.1111111111111111,
              "#46039f"
             ],
             [
              0.2222222222222222,
              "#7201a8"
             ],
             [
              0.3333333333333333,
              "#9c179e"
             ],
             [
              0.4444444444444444,
              "#bd3786"
             ],
             [
              0.5555555555555556,
              "#d8576b"
             ],
             [
              0.6666666666666666,
              "#ed7953"
             ],
             [
              0.7777777777777778,
              "#fb9f3a"
             ],
             [
              0.8888888888888888,
              "#fdca26"
             ],
             [
              1,
              "#f0f921"
             ]
            ],
            "type": "surface"
           }
          ],
          "table": [
           {
            "cells": {
             "fill": {
              "color": "#EBF0F8"
             },
             "line": {
              "color": "white"
             }
            },
            "header": {
             "fill": {
              "color": "#C8D4E3"
             },
             "line": {
              "color": "white"
             }
            },
            "type": "table"
           }
          ]
         },
         "layout": {
          "annotationdefaults": {
           "arrowcolor": "#2a3f5f",
           "arrowhead": 0,
           "arrowwidth": 1
          },
          "autotypenumbers": "strict",
          "coloraxis": {
           "colorbar": {
            "outlinewidth": 0,
            "ticks": ""
           }
          },
          "colorscale": {
           "diverging": [
            [
             0,
             "#8e0152"
            ],
            [
             0.1,
             "#c51b7d"
            ],
            [
             0.2,
             "#de77ae"
            ],
            [
             0.3,
             "#f1b6da"
            ],
            [
             0.4,
             "#fde0ef"
            ],
            [
             0.5,
             "#f7f7f7"
            ],
            [
             0.6,
             "#e6f5d0"
            ],
            [
             0.7,
             "#b8e186"
            ],
            [
             0.8,
             "#7fbc41"
            ],
            [
             0.9,
             "#4d9221"
            ],
            [
             1,
             "#276419"
            ]
           ],
           "sequential": [
            [
             0,
             "#0d0887"
            ],
            [
             0.1111111111111111,
             "#46039f"
            ],
            [
             0.2222222222222222,
             "#7201a8"
            ],
            [
             0.3333333333333333,
             "#9c179e"
            ],
            [
             0.4444444444444444,
             "#bd3786"
            ],
            [
             0.5555555555555556,
             "#d8576b"
            ],
            [
             0.6666666666666666,
             "#ed7953"
            ],
            [
             0.7777777777777778,
             "#fb9f3a"
            ],
            [
             0.8888888888888888,
             "#fdca26"
            ],
            [
             1,
             "#f0f921"
            ]
           ],
           "sequentialminus": [
            [
             0,
             "#0d0887"
            ],
            [
             0.1111111111111111,
             "#46039f"
            ],
            [
             0.2222222222222222,
             "#7201a8"
            ],
            [
             0.3333333333333333,
             "#9c179e"
            ],
            [
             0.4444444444444444,
             "#bd3786"
            ],
            [
             0.5555555555555556,
             "#d8576b"
            ],
            [
             0.6666666666666666,
             "#ed7953"
            ],
            [
             0.7777777777777778,
             "#fb9f3a"
            ],
            [
             0.8888888888888888,
             "#fdca26"
            ],
            [
             1,
             "#f0f921"
            ]
           ]
          },
          "colorway": [
           "#636efa",
           "#EF553B",
           "#00cc96",
           "#ab63fa",
           "#FFA15A",
           "#19d3f3",
           "#FF6692",
           "#B6E880",
           "#FF97FF",
           "#FECB52"
          ],
          "font": {
           "color": "#2a3f5f"
          },
          "geo": {
           "bgcolor": "white",
           "lakecolor": "white",
           "landcolor": "#E5ECF6",
           "showlakes": true,
           "showland": true,
           "subunitcolor": "white"
          },
          "hoverlabel": {
           "align": "left"
          },
          "hovermode": "closest",
          "mapbox": {
           "style": "light"
          },
          "paper_bgcolor": "white",
          "plot_bgcolor": "#E5ECF6",
          "polar": {
           "angularaxis": {
            "gridcolor": "white",
            "linecolor": "white",
            "ticks": ""
           },
           "bgcolor": "#E5ECF6",
           "radialaxis": {
            "gridcolor": "white",
            "linecolor": "white",
            "ticks": ""
           }
          },
          "scene": {
           "xaxis": {
            "backgroundcolor": "#E5ECF6",
            "gridcolor": "white",
            "gridwidth": 2,
            "linecolor": "white",
            "showbackground": true,
            "ticks": "",
            "zerolinecolor": "white"
           },
           "yaxis": {
            "backgroundcolor": "#E5ECF6",
            "gridcolor": "white",
            "gridwidth": 2,
            "linecolor": "white",
            "showbackground": true,
            "ticks": "",
            "zerolinecolor": "white"
           },
           "zaxis": {
            "backgroundcolor": "#E5ECF6",
            "gridcolor": "white",
            "gridwidth": 2,
            "linecolor": "white",
            "showbackground": true,
            "ticks": "",
            "zerolinecolor": "white"
           }
          },
          "shapedefaults": {
           "line": {
            "color": "#2a3f5f"
           }
          },
          "ternary": {
           "aaxis": {
            "gridcolor": "white",
            "linecolor": "white",
            "ticks": ""
           },
           "baxis": {
            "gridcolor": "white",
            "linecolor": "white",
            "ticks": ""
           },
           "bgcolor": "#E5ECF6",
           "caxis": {
            "gridcolor": "white",
            "linecolor": "white",
            "ticks": ""
           }
          },
          "title": {
           "x": 0.05
          },
          "xaxis": {
           "automargin": true,
           "gridcolor": "white",
           "linecolor": "white",
           "ticks": "",
           "title": {
            "standoff": 15
           },
           "zerolinecolor": "white",
           "zerolinewidth": 2
          },
          "yaxis": {
           "automargin": true,
           "gridcolor": "white",
           "linecolor": "white",
           "ticks": "",
           "title": {
            "standoff": 15
           },
           "zerolinecolor": "white",
           "zerolinewidth": 2
          }
         }
        },
        "updatemenus": [
         {
          "buttons": [
           {
            "args": [
             {
              "cells.values": [
               [
                "Altbier",
                "English Porter",
                "Foreign / Export Stout",
                "Milk / Sweet Stout",
                "Old Ale",
                "Roggenbier",
                "Russian Imperial Stout",
                "Schwarzbier",
                "Amber Lager/Vienna",
                "Dunkel/Tmavý",
                "Dunkler Bock",
                "Irish Ale",
                "Mild Ale"
               ],
               [
                "Contemplative",
                "Contemplative",
                "Contemplative",
                "Contemplative",
                "Contemplative",
                "Contemplative",
                "Contemplative",
                "Contemplative",
                "Contemplative",
                "Contemplative",
                "Contemplative",
                "Contemplative",
                "Contemplative"
               ]
              ]
             }
            ],
            "label": "Contemplative",
            "method": "update"
           },
           {
            "args": [
             {
              "cells.values": [
               [
                "American Black Ale",
                "English Stout",
                "Irish Dry Stout",
                "Munich Dunkel Lager",
                "Oatmeal Stout",
                "Black IPA",
                "Dry Stout",
                "Foreign Stout",
                "Imperial Porter",
                "Porter",
                "Stout"
               ],
               [
                "Nostalgic",
                "Nostalgic",
                "Nostalgic",
                "Nostalgic",
                "Nostalgic",
                "Nostalgic",
                "Nostalgic",
                "Nostalgic",
                "Nostalgic",
                "Nostalgic",
                "Nostalgic"
               ]
              ]
             }
            ],
            "label": "Nostalgic",
            "method": "update"
           },
           {
            "args": [
             {
              "cells.values": [
               [
                "American Blonde Ale",
                "American Pale Lager",
                "American Pale Wheat Ale",
                "Belgian Pale Ale",
                "Belgian Strong Pale Ale",
                "Fruit / Vegetable Beer",
                "Gose",
                "Kölsch",
                "Lambic - Unblended",
                "Pumpkin Ale",
                "Tripel",
                "Berliner Weisse",
                "Cider",
                "Dortmunder/Helles",
                "Fruit Beer",
                "Grodziskie/Gose/Lichtenhainer",
                "Pilsener",
                "Radler/Shandy",
                "Saison",
                "Wheat Ale"
               ],
               [
                "Cheerful",
                "Cheerful",
                "Cheerful",
                "Cheerful",
                "Cheerful",
                "Cheerful",
                "Cheerful",
                "Cheerful",
                "Cheerful",
                "Cheerful",
                "Cheerful",
                "Cheerful",
                "Cheerful",
                "Cheerful",
                "Cheerful",
                "Cheerful",
                "Cheerful",
                "Cheerful",
                "Cheerful",
                "Cheerful"
               ]
              ]
             }
            ],
            "label": "Cheerful",
            "method": "update"
           },
           {
            "args": [
             {
              "cells.values": [
               [
                "American IPA",
                "American Wild Ale",
                "Berliner Weissbier",
                "Czech Pilsener",
                "Gueuze",
                "Kellerbier / Zwickelbier",
                "Munich Helles Lager",
                "American Pale Ale",
                "Czech Pilsner (Světlý)",
                "India Pale Ale (IPA)",
                "Lambic Style - Unblended",
                "Session IPA",
                "Sour/Wild Ale"
               ],
               [
                "Energetic",
                "Energetic",
                "Energetic",
                "Energetic",
                "Energetic",
                "Energetic",
                "Energetic",
                "Energetic",
                "Energetic",
                "Energetic",
                "Energetic",
                "Energetic",
                "Energetic"
               ]
              ]
             }
            ],
            "label": "Energetic",
            "method": "update"
           },
           {
            "args": [
             {
              "cells.values": [
               [
                "Bière de Garde",
                "Braggot",
                "Cream Ale",
                "Faro",
                "Happoshu",
                "Kvass",
                "Saison / Farmhouse Ale",
                "Weizenbock",
                "Abbey Tripel",
                "Golden Ale/Blond Ale",
                "Lambic Style - Faro",
                "Lambic Style - Fruit",
                "Lambic Style - Gueuze",
                "Mead",
                "Zwickel/Keller/Landbier"
               ],
               [
                "Relaxed",
                "Relaxed",
                "Relaxed",
                "Relaxed",
                "Relaxed",
                "Relaxed",
                "Relaxed",
                "Relaxed",
                "Relaxed",
                "Relaxed",
                "Relaxed",
                "Relaxed",
                "Relaxed",
                "Relaxed",
                "Relaxed"
               ]
              ]
             }
            ],
            "label": "Relaxed",
            "method": "update"
           },
           {
            "args": [
             {
              "cells.values": [
               [
                "Lambic - Fruit"
               ],
               [
                "Adventurous"
               ]
              ]
             }
            ],
            "label": "Adventurous",
            "method": "update"
           }
          ],
          "direction": "down",
          "pad": {
           "r": 20,
           "t": 5
          },
          "showactive": true,
          "x": 0.1,
          "xanchor": "left",
          "y": 1.8,
          "yanchor": "top"
         }
        ]
       }
      },
      "text/html": [
       "<div>                            <div id=\"a73fe9ca-4a3b-4e52-92b5-437be4a10cd7\" class=\"plotly-graph-div\" style=\"height:525px; width:100%;\"></div>            <script type=\"text/javascript\">                require([\"plotly\"], function(Plotly) {                    window.PLOTLYENV=window.PLOTLYENV || {};                                    if (document.getElementById(\"a73fe9ca-4a3b-4e52-92b5-437be4a10cd7\")) {                    Plotly.newPlot(                        \"a73fe9ca-4a3b-4e52-92b5-437be4a10cd7\",                        [{\"cells\":{\"align\":\"left\",\"fill\":{\"color\":\"#FFFFE0\"},\"values\":[[],[]]},\"header\":{\"align\":\"left\",\"fill\":{\"color\":\"#8B4513\"},\"values\":[\"Beer Style\",\"Mood\"]},\"type\":\"table\"}],                        {\"template\":{\"data\":{\"histogram2dcontour\":[{\"type\":\"histogram2dcontour\",\"colorbar\":{\"outlinewidth\":0,\"ticks\":\"\"},\"colorscale\":[[0.0,\"#0d0887\"],[0.1111111111111111,\"#46039f\"],[0.2222222222222222,\"#7201a8\"],[0.3333333333333333,\"#9c179e\"],[0.4444444444444444,\"#bd3786\"],[0.5555555555555556,\"#d8576b\"],[0.6666666666666666,\"#ed7953\"],[0.7777777777777778,\"#fb9f3a\"],[0.8888888888888888,\"#fdca26\"],[1.0,\"#f0f921\"]]}],\"choropleth\":[{\"type\":\"choropleth\",\"colorbar\":{\"outlinewidth\":0,\"ticks\":\"\"}}],\"histogram2d\":[{\"type\":\"histogram2d\",\"colorbar\":{\"outlinewidth\":0,\"ticks\":\"\"},\"colorscale\":[[0.0,\"#0d0887\"],[0.1111111111111111,\"#46039f\"],[0.2222222222222222,\"#7201a8\"],[0.3333333333333333,\"#9c179e\"],[0.4444444444444444,\"#bd3786\"],[0.5555555555555556,\"#d8576b\"],[0.6666666666666666,\"#ed7953\"],[0.7777777777777778,\"#fb9f3a\"],[0.8888888888888888,\"#fdca26\"],[1.0,\"#f0f921\"]]}],\"heatmap\":[{\"type\":\"heatmap\",\"colorbar\":{\"outlinewidth\":0,\"ticks\":\"\"},\"colorscale\":[[0.0,\"#0d0887\"],[0.1111111111111111,\"#46039f\"],[0.2222222222222222,\"#7201a8\"],[0.3333333333333333,\"#9c179e\"],[0.4444444444444444,\"#bd3786\"],[0.5555555555555556,\"#d8576b\"],[0.6666666666666666,\"#ed7953\"],[0.7777777777777778,\"#fb9f3a\"],[0.8888888888888888,\"#fdca26\"],[1.0,\"#f0f921\"]]}],\"heatmapgl\":[{\"type\":\"heatmapgl\",\"colorbar\":{\"outlinewidth\":0,\"ticks\":\"\"},\"colorscale\":[[0.0,\"#0d0887\"],[0.1111111111111111,\"#46039f\"],[0.2222222222222222,\"#7201a8\"],[0.3333333333333333,\"#9c179e\"],[0.4444444444444444,\"#bd3786\"],[0.5555555555555556,\"#d8576b\"],[0.6666666666666666,\"#ed7953\"],[0.7777777777777778,\"#fb9f3a\"],[0.8888888888888888,\"#fdca26\"],[1.0,\"#f0f921\"]]}],\"contourcarpet\":[{\"type\":\"contourcarpet\",\"colorbar\":{\"outlinewidth\":0,\"ticks\":\"\"}}],\"contour\":[{\"type\":\"contour\",\"colorbar\":{\"outlinewidth\":0,\"ticks\":\"\"},\"colorscale\":[[0.0,\"#0d0887\"],[0.1111111111111111,\"#46039f\"],[0.2222222222222222,\"#7201a8\"],[0.3333333333333333,\"#9c179e\"],[0.4444444444444444,\"#bd3786\"],[0.5555555555555556,\"#d8576b\"],[0.6666666666666666,\"#ed7953\"],[0.7777777777777778,\"#fb9f3a\"],[0.8888888888888888,\"#fdca26\"],[1.0,\"#f0f921\"]]}],\"surface\":[{\"type\":\"surface\",\"colorbar\":{\"outlinewidth\":0,\"ticks\":\"\"},\"colorscale\":[[0.0,\"#0d0887\"],[0.1111111111111111,\"#46039f\"],[0.2222222222222222,\"#7201a8\"],[0.3333333333333333,\"#9c179e\"],[0.4444444444444444,\"#bd3786\"],[0.5555555555555556,\"#d8576b\"],[0.6666666666666666,\"#ed7953\"],[0.7777777777777778,\"#fb9f3a\"],[0.8888888888888888,\"#fdca26\"],[1.0,\"#f0f921\"]]}],\"mesh3d\":[{\"type\":\"mesh3d\",\"colorbar\":{\"outlinewidth\":0,\"ticks\":\"\"}}],\"scatter\":[{\"fillpattern\":{\"fillmode\":\"overlay\",\"size\":10,\"solidity\":0.2},\"type\":\"scatter\"}],\"parcoords\":[{\"type\":\"parcoords\",\"line\":{\"colorbar\":{\"outlinewidth\":0,\"ticks\":\"\"}}}],\"scatterpolargl\":[{\"type\":\"scatterpolargl\",\"marker\":{\"colorbar\":{\"outlinewidth\":0,\"ticks\":\"\"}}}],\"bar\":[{\"error_x\":{\"color\":\"#2a3f5f\"},\"error_y\":{\"color\":\"#2a3f5f\"},\"marker\":{\"line\":{\"color\":\"#E5ECF6\",\"width\":0.5},\"pattern\":{\"fillmode\":\"overlay\",\"size\":10,\"solidity\":0.2}},\"type\":\"bar\"}],\"scattergeo\":[{\"type\":\"scattergeo\",\"marker\":{\"colorbar\":{\"outlinewidth\":0,\"ticks\":\"\"}}}],\"scatterpolar\":[{\"type\":\"scatterpolar\",\"marker\":{\"colorbar\":{\"outlinewidth\":0,\"ticks\":\"\"}}}],\"histogram\":[{\"marker\":{\"pattern\":{\"fillmode\":\"overlay\",\"size\":10,\"solidity\":0.2}},\"type\":\"histogram\"}],\"scattergl\":[{\"type\":\"scattergl\",\"marker\":{\"colorbar\":{\"outlinewidth\":0,\"ticks\":\"\"}}}],\"scatter3d\":[{\"type\":\"scatter3d\",\"line\":{\"colorbar\":{\"outlinewidth\":0,\"ticks\":\"\"}},\"marker\":{\"colorbar\":{\"outlinewidth\":0,\"ticks\":\"\"}}}],\"scattermapbox\":[{\"type\":\"scattermapbox\",\"marker\":{\"colorbar\":{\"outlinewidth\":0,\"ticks\":\"\"}}}],\"scatterternary\":[{\"type\":\"scatterternary\",\"marker\":{\"colorbar\":{\"outlinewidth\":0,\"ticks\":\"\"}}}],\"scattercarpet\":[{\"type\":\"scattercarpet\",\"marker\":{\"colorbar\":{\"outlinewidth\":0,\"ticks\":\"\"}}}],\"carpet\":[{\"aaxis\":{\"endlinecolor\":\"#2a3f5f\",\"gridcolor\":\"white\",\"linecolor\":\"white\",\"minorgridcolor\":\"white\",\"startlinecolor\":\"#2a3f5f\"},\"baxis\":{\"endlinecolor\":\"#2a3f5f\",\"gridcolor\":\"white\",\"linecolor\":\"white\",\"minorgridcolor\":\"white\",\"startlinecolor\":\"#2a3f5f\"},\"type\":\"carpet\"}],\"table\":[{\"cells\":{\"fill\":{\"color\":\"#EBF0F8\"},\"line\":{\"color\":\"white\"}},\"header\":{\"fill\":{\"color\":\"#C8D4E3\"},\"line\":{\"color\":\"white\"}},\"type\":\"table\"}],\"barpolar\":[{\"marker\":{\"line\":{\"color\":\"#E5ECF6\",\"width\":0.5},\"pattern\":{\"fillmode\":\"overlay\",\"size\":10,\"solidity\":0.2}},\"type\":\"barpolar\"}],\"pie\":[{\"automargin\":true,\"type\":\"pie\"}]},\"layout\":{\"autotypenumbers\":\"strict\",\"colorway\":[\"#636efa\",\"#EF553B\",\"#00cc96\",\"#ab63fa\",\"#FFA15A\",\"#19d3f3\",\"#FF6692\",\"#B6E880\",\"#FF97FF\",\"#FECB52\"],\"font\":{\"color\":\"#2a3f5f\"},\"hovermode\":\"closest\",\"hoverlabel\":{\"align\":\"left\"},\"paper_bgcolor\":\"white\",\"plot_bgcolor\":\"#E5ECF6\",\"polar\":{\"bgcolor\":\"#E5ECF6\",\"angularaxis\":{\"gridcolor\":\"white\",\"linecolor\":\"white\",\"ticks\":\"\"},\"radialaxis\":{\"gridcolor\":\"white\",\"linecolor\":\"white\",\"ticks\":\"\"}},\"ternary\":{\"bgcolor\":\"#E5ECF6\",\"aaxis\":{\"gridcolor\":\"white\",\"linecolor\":\"white\",\"ticks\":\"\"},\"baxis\":{\"gridcolor\":\"white\",\"linecolor\":\"white\",\"ticks\":\"\"},\"caxis\":{\"gridcolor\":\"white\",\"linecolor\":\"white\",\"ticks\":\"\"}},\"coloraxis\":{\"colorbar\":{\"outlinewidth\":0,\"ticks\":\"\"}},\"colorscale\":{\"sequential\":[[0.0,\"#0d0887\"],[0.1111111111111111,\"#46039f\"],[0.2222222222222222,\"#7201a8\"],[0.3333333333333333,\"#9c179e\"],[0.4444444444444444,\"#bd3786\"],[0.5555555555555556,\"#d8576b\"],[0.6666666666666666,\"#ed7953\"],[0.7777777777777778,\"#fb9f3a\"],[0.8888888888888888,\"#fdca26\"],[1.0,\"#f0f921\"]],\"sequentialminus\":[[0.0,\"#0d0887\"],[0.1111111111111111,\"#46039f\"],[0.2222222222222222,\"#7201a8\"],[0.3333333333333333,\"#9c179e\"],[0.4444444444444444,\"#bd3786\"],[0.5555555555555556,\"#d8576b\"],[0.6666666666666666,\"#ed7953\"],[0.7777777777777778,\"#fb9f3a\"],[0.8888888888888888,\"#fdca26\"],[1.0,\"#f0f921\"]],\"diverging\":[[0,\"#8e0152\"],[0.1,\"#c51b7d\"],[0.2,\"#de77ae\"],[0.3,\"#f1b6da\"],[0.4,\"#fde0ef\"],[0.5,\"#f7f7f7\"],[0.6,\"#e6f5d0\"],[0.7,\"#b8e186\"],[0.8,\"#7fbc41\"],[0.9,\"#4d9221\"],[1,\"#276419\"]]},\"xaxis\":{\"gridcolor\":\"white\",\"linecolor\":\"white\",\"ticks\":\"\",\"title\":{\"standoff\":15},\"zerolinecolor\":\"white\",\"automargin\":true,\"zerolinewidth\":2},\"yaxis\":{\"gridcolor\":\"white\",\"linecolor\":\"white\",\"ticks\":\"\",\"title\":{\"standoff\":15},\"zerolinecolor\":\"white\",\"automargin\":true,\"zerolinewidth\":2},\"scene\":{\"xaxis\":{\"backgroundcolor\":\"#E5ECF6\",\"gridcolor\":\"white\",\"linecolor\":\"white\",\"showbackground\":true,\"ticks\":\"\",\"zerolinecolor\":\"white\",\"gridwidth\":2},\"yaxis\":{\"backgroundcolor\":\"#E5ECF6\",\"gridcolor\":\"white\",\"linecolor\":\"white\",\"showbackground\":true,\"ticks\":\"\",\"zerolinecolor\":\"white\",\"gridwidth\":2},\"zaxis\":{\"backgroundcolor\":\"#E5ECF6\",\"gridcolor\":\"white\",\"linecolor\":\"white\",\"showbackground\":true,\"ticks\":\"\",\"zerolinecolor\":\"white\",\"gridwidth\":2}},\"shapedefaults\":{\"line\":{\"color\":\"#2a3f5f\"}},\"annotationdefaults\":{\"arrowcolor\":\"#2a3f5f\",\"arrowhead\":0,\"arrowwidth\":1},\"geo\":{\"bgcolor\":\"white\",\"landcolor\":\"#E5ECF6\",\"subunitcolor\":\"white\",\"showland\":true,\"showlakes\":true,\"lakecolor\":\"white\"},\"title\":{\"x\":0.05},\"mapbox\":{\"style\":\"light\"}}},\"updatemenus\":[{\"buttons\":[{\"args\":[{\"cells.values\":[[\"Altbier\",\"English Porter\",\"Foreign / Export Stout\",\"Milk / Sweet Stout\",\"Old Ale\",\"Roggenbier\",\"Russian Imperial Stout\",\"Schwarzbier\",\"Amber Lager/Vienna\",\"Dunkel/Tmav\\u00fd\",\"Dunkler Bock\",\"Irish Ale\",\"Mild Ale\"],[\"Contemplative\",\"Contemplative\",\"Contemplative\",\"Contemplative\",\"Contemplative\",\"Contemplative\",\"Contemplative\",\"Contemplative\",\"Contemplative\",\"Contemplative\",\"Contemplative\",\"Contemplative\",\"Contemplative\"]]}],\"label\":\"Contemplative\",\"method\":\"update\"},{\"args\":[{\"cells.values\":[[\"American Black Ale\",\"English Stout\",\"Irish Dry Stout\",\"Munich Dunkel Lager\",\"Oatmeal Stout\",\"Black IPA\",\"Dry Stout\",\"Foreign Stout\",\"Imperial Porter\",\"Porter\",\"Stout\"],[\"Nostalgic\",\"Nostalgic\",\"Nostalgic\",\"Nostalgic\",\"Nostalgic\",\"Nostalgic\",\"Nostalgic\",\"Nostalgic\",\"Nostalgic\",\"Nostalgic\",\"Nostalgic\"]]}],\"label\":\"Nostalgic\",\"method\":\"update\"},{\"args\":[{\"cells.values\":[[\"American Blonde Ale\",\"American Pale Lager\",\"American Pale Wheat Ale\",\"Belgian Pale Ale\",\"Belgian Strong Pale Ale\",\"Fruit / Vegetable Beer\",\"Gose\",\"K\\u00f6lsch\",\"Lambic - Unblended\",\"Pumpkin Ale\",\"Tripel\",\"Berliner Weisse\",\"Cider\",\"Dortmunder/Helles\",\"Fruit Beer\",\"Grodziskie/Gose/Lichtenhainer\",\"Pilsener\",\"Radler/Shandy\",\"Saison\",\"Wheat Ale\"],[\"Cheerful\",\"Cheerful\",\"Cheerful\",\"Cheerful\",\"Cheerful\",\"Cheerful\",\"Cheerful\",\"Cheerful\",\"Cheerful\",\"Cheerful\",\"Cheerful\",\"Cheerful\",\"Cheerful\",\"Cheerful\",\"Cheerful\",\"Cheerful\",\"Cheerful\",\"Cheerful\",\"Cheerful\",\"Cheerful\"]]}],\"label\":\"Cheerful\",\"method\":\"update\"},{\"args\":[{\"cells.values\":[[\"American IPA\",\"American Wild Ale\",\"Berliner Weissbier\",\"Czech Pilsener\",\"Gueuze\",\"Kellerbier / Zwickelbier\",\"Munich Helles Lager\",\"American Pale Ale\",\"Czech Pilsner (Sv\\u011btl\\u00fd)\",\"India Pale Ale (IPA)\",\"Lambic Style - Unblended\",\"Session IPA\",\"Sour/Wild Ale\"],[\"Energetic\",\"Energetic\",\"Energetic\",\"Energetic\",\"Energetic\",\"Energetic\",\"Energetic\",\"Energetic\",\"Energetic\",\"Energetic\",\"Energetic\",\"Energetic\",\"Energetic\"]]}],\"label\":\"Energetic\",\"method\":\"update\"},{\"args\":[{\"cells.values\":[[\"Bi\\u00e8re de Garde\",\"Braggot\",\"Cream Ale\",\"Faro\",\"Happoshu\",\"Kvass\",\"Saison / Farmhouse Ale\",\"Weizenbock\",\"Abbey Tripel\",\"Golden Ale/Blond Ale\",\"Lambic Style - Faro\",\"Lambic Style - Fruit\",\"Lambic Style - Gueuze\",\"Mead\",\"Zwickel/Keller/Landbier\"],[\"Relaxed\",\"Relaxed\",\"Relaxed\",\"Relaxed\",\"Relaxed\",\"Relaxed\",\"Relaxed\",\"Relaxed\",\"Relaxed\",\"Relaxed\",\"Relaxed\",\"Relaxed\",\"Relaxed\",\"Relaxed\",\"Relaxed\"]]}],\"label\":\"Relaxed\",\"method\":\"update\"},{\"args\":[{\"cells.values\":[[\"Lambic - Fruit\"],[\"Adventurous\"]]}],\"label\":\"Adventurous\",\"method\":\"update\"}],\"direction\":\"down\",\"pad\":{\"r\":20,\"t\":5},\"showactive\":true,\"x\":0.1,\"xanchor\":\"left\",\"y\":1.8,\"yanchor\":\"top\"}]},                        {\"responsive\": true}                    ).then(function(){\n",
       "                            \n",
       "var gd = document.getElementById('a73fe9ca-4a3b-4e52-92b5-437be4a10cd7');\n",
       "var x = new MutationObserver(function (mutations, observer) {{\n",
       "        var display = window.getComputedStyle(gd).display;\n",
       "        if (!display || display === 'none') {{\n",
       "            console.log([gd, 'removed!']);\n",
       "            Plotly.purge(gd);\n",
       "            observer.disconnect();\n",
       "        }}\n",
       "}});\n",
       "\n",
       "// Listen for the removal of the full notebook cells\n",
       "var notebookContainer = gd.closest('#notebook-container');\n",
       "if (notebookContainer) {{\n",
       "    x.observe(notebookContainer, {childList: true});\n",
       "}}\n",
       "\n",
       "// Listen for the clearing of the current output cell\n",
       "var outputEl = gd.closest('.output');\n",
       "if (outputEl) {{\n",
       "    x.observe(outputEl, {childList: true});\n",
       "}}\n",
       "\n",
       "                        })                };                });            </script>        </div>"
      ]
     },
     "metadata": {},
     "output_type": "display_data"
    }
   ],
   "source": [
    "import pandas as pd\n",
    "import plotly.graph_objects as go\n",
    "\n",
    "\n",
    "moods = final_df['Mood'].unique()\n",
    "\n",
    "fig = go.Figure(data=[go.Table(\n",
    "    header=dict(values=[\"Beer Style\", \"Mood\"],\n",
    "                fill_color='#8B4513',  # dark brown\n",
    "                align='left'),\n",
    "    cells=dict(values=[[], []],  \n",
    "               fill_color='#FFFFE0',  # light yellow like beer\n",
    "               align='left'))\n",
    "])\n",
    "\n",
    "# Function to update the table based on selected mood\n",
    "def update_table(mood):\n",
    "    # Filter DataFrame based on selected mood\n",
    "    filtered_data = final_df[final_df['Mood'] == mood]\n",
    "    \n",
    "    # Return the values needed for the table update\n",
    "    return [filtered_data['style'], filtered_data['Mood']]\n",
    "\n",
    "buttons = []\n",
    "\n",
    "for mood in moods:\n",
    "    buttons.append(dict(\n",
    "        label=mood,\n",
    "        method=\"update\",\n",
    "        args=[{\"cells.values\": update_table(mood)}]\n",
    "    ))\n",
    "\n",
    "# Update the figure layout to add dropdown\n",
    "fig.update_layout(\n",
    "    updatemenus=[\n",
    "        go.layout.Updatemenu(\n",
    "            buttons=buttons,\n",
    "            direction=\"down\",\n",
    "            pad={\"r\": 20, \"t\": 5},\n",
    "            showactive=True,\n",
    "            x=0.1,\n",
    "            xanchor=\"left\",\n",
    "            y=1.8,\n",
    "            yanchor=\"top\"\n",
    "        ),\n",
    "    ]\n",
    ")\n"
   ]
  }
 ],
 "metadata": {
  "kernelspec": {
   "display_name": "Python 3 (ipykernel)",
   "language": "python",
   "name": "python3"
  },
  "language_info": {
   "codemirror_mode": {
    "name": "ipython",
    "version": 3
   },
   "file_extension": ".py",
   "mimetype": "text/x-python",
   "name": "python",
   "nbconvert_exporter": "python",
   "pygments_lexer": "ipython3",
   "version": "3.11.5"
  }
 },
 "nbformat": 4,
 "nbformat_minor": 5
}
